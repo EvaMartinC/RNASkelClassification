{
 "cells": [
  {
   "cell_type": "code",
   "execution_count": 1,
   "metadata": {},
   "outputs": [],
   "source": [
    "import numpy as np\n",
    "import matplotlib.pyplot as plt\n",
    "import pandas as pd        \n",
    "from math import sqrt\n",
    "import networkx as nx"
   ]
  },
  {
   "cell_type": "code",
   "execution_count": 2,
   "metadata": {},
   "outputs": [],
   "source": [
    "# https://cienciadedatos.net/documentos/pygml01-introduccion-grafos-redes-python\n",
    "#https://pandas.pydata.org/docs/getting_started/intro_tutorials/03_subset_data.html"
   ]
  },
  {
   "cell_type": "code",
   "execution_count": null,
   "metadata": {},
   "outputs": [
    {
     "data": {
      "text/html": [
       "<div>\n",
       "<style scoped>\n",
       "    .dataframe tbody tr th:only-of-type {\n",
       "        vertical-align: middle;\n",
       "    }\n",
       "\n",
       "    .dataframe tbody tr th {\n",
       "        vertical-align: top;\n",
       "    }\n",
       "\n",
       "    .dataframe thead th {\n",
       "        text-align: right;\n",
       "    }\n",
       "</style>\n",
       "<table border=\"1\" class=\"dataframe\">\n",
       "  <thead>\n",
       "    <tr style=\"text-align: right;\">\n",
       "      <th></th>\n",
       "      <th>image</th>\n",
       "      <th>threshold</th>\n",
       "      <th>grain_number</th>\n",
       "      <th>index</th>\n",
       "      <th>branch_distance</th>\n",
       "      <th>branch_type</th>\n",
       "      <th>connected_segments</th>\n",
       "      <th>mean_pixel_value</th>\n",
       "      <th>stdev_pixel_value</th>\n",
       "      <th>min_value</th>\n",
       "      <th>median_value</th>\n",
       "      <th>middle_value</th>\n",
       "      <th>basename</th>\n",
       "    </tr>\n",
       "  </thead>\n",
       "  <tbody>\n",
       "    <tr>\n",
       "      <th>0</th>\n",
       "      <td>1</td>\n",
       "      <td>above</td>\n",
       "      <td>0</td>\n",
       "      <td>0</td>\n",
       "      <td>14.787240</td>\n",
       "      <td>1</td>\n",
       "      <td>[1, 2]</td>\n",
       "      <td>0.600997</td>\n",
       "      <td>0.059646</td>\n",
       "      <td>0.479759</td>\n",
       "      <td>0.628742</td>\n",
       "      <td>0.643032</td>\n",
       "      <td>..\\CONCR_test_FMH\\stp_files</td>\n",
       "    </tr>\n",
       "    <tr>\n",
       "      <th>1</th>\n",
       "      <td>1</td>\n",
       "      <td>above</td>\n",
       "      <td>0</td>\n",
       "      <td>1</td>\n",
       "      <td>33.174373</td>\n",
       "      <td>2</td>\n",
       "      <td>[0, 2, 5, 6]</td>\n",
       "      <td>0.531793</td>\n",
       "      <td>0.175295</td>\n",
       "      <td>0.209047</td>\n",
       "      <td>0.507949</td>\n",
       "      <td>0.244502</td>\n",
       "      <td>..\\CONCR_test_FMH\\stp_files</td>\n",
       "    </tr>\n",
       "    <tr>\n",
       "      <th>2</th>\n",
       "      <td>1</td>\n",
       "      <td>above</td>\n",
       "      <td>0</td>\n",
       "      <td>2</td>\n",
       "      <td>8.453958</td>\n",
       "      <td>2</td>\n",
       "      <td>[0, 1, 3, 4]</td>\n",
       "      <td>0.437767</td>\n",
       "      <td>0.097775</td>\n",
       "      <td>0.323294</td>\n",
       "      <td>0.433644</td>\n",
       "      <td>0.332054</td>\n",
       "      <td>..\\CONCR_test_FMH\\stp_files</td>\n",
       "    </tr>\n",
       "    <tr>\n",
       "      <th>3</th>\n",
       "      <td>1</td>\n",
       "      <td>above</td>\n",
       "      <td>0</td>\n",
       "      <td>3</td>\n",
       "      <td>11.146692</td>\n",
       "      <td>1</td>\n",
       "      <td>[2, 4]</td>\n",
       "      <td>0.570466</td>\n",
       "      <td>0.037101</td>\n",
       "      <td>0.491929</td>\n",
       "      <td>0.571744</td>\n",
       "      <td>0.537611</td>\n",
       "      <td>..\\CONCR_test_FMH\\stp_files</td>\n",
       "    </tr>\n",
       "    <tr>\n",
       "      <th>4</th>\n",
       "      <td>1</td>\n",
       "      <td>above</td>\n",
       "      <td>0</td>\n",
       "      <td>4</td>\n",
       "      <td>10.979140</td>\n",
       "      <td>1</td>\n",
       "      <td>[2, 3]</td>\n",
       "      <td>0.378557</td>\n",
       "      <td>0.081793</td>\n",
       "      <td>0.268611</td>\n",
       "      <td>0.362868</td>\n",
       "      <td>0.291852</td>\n",
       "      <td>..\\CONCR_test_FMH\\stp_files</td>\n",
       "    </tr>\n",
       "  </tbody>\n",
       "</table>\n",
       "</div>"
      ],
      "text/plain": [
       "   image threshold  grain_number  index  branch_distance  branch_type  \\\n",
       "0      1     above             0      0        14.787240            1   \n",
       "1      1     above             0      1        33.174373            2   \n",
       "2      1     above             0      2         8.453958            2   \n",
       "3      1     above             0      3        11.146692            1   \n",
       "4      1     above             0      4        10.979140            1   \n",
       "\n",
       "  connected_segments  mean_pixel_value  stdev_pixel_value  min_value  \\\n",
       "0             [1, 2]          0.600997           0.059646   0.479759   \n",
       "1       [0, 2, 5, 6]          0.531793           0.175295   0.209047   \n",
       "2       [0, 1, 3, 4]          0.437767           0.097775   0.323294   \n",
       "3             [2, 4]          0.570466           0.037101   0.491929   \n",
       "4             [2, 3]          0.378557           0.081793   0.268611   \n",
       "\n",
       "   median_value  middle_value                     basename  \n",
       "0      0.628742      0.643032  ..\\CONCR_test_FMH\\stp_files  \n",
       "1      0.507949      0.244502  ..\\CONCR_test_FMH\\stp_files  \n",
       "2      0.433644      0.332054  ..\\CONCR_test_FMH\\stp_files  \n",
       "3      0.571744      0.537611  ..\\CONCR_test_FMH\\stp_files  \n",
       "4      0.362868      0.291852  ..\\CONCR_test_FMH\\stp_files  "
      ]
     },
     "execution_count": 3,
     "metadata": {},
     "output_type": "execute_result"
    }
   ],
   "source": [
    "concr_data = pd.read_csv('C:/Users/evatr/Documents/Estancia/CONCR_test_FMH/output_4/all_disordered_segment_statistics.csv')\n",
    "concr_data.head(20)"
   ]
  },
  {
   "cell_type": "code",
   "execution_count": 4,
   "metadata": {},
   "outputs": [
    {
     "name": "stdout",
     "output_type": "stream",
     "text": [
      "<class 'pandas.core.series.Series'>\n"
     ]
    }
   ],
   "source": [
    "first_image = concr_data[\"image\"]\n",
    "first_image.head(20)\n",
    "print(type(first_image))"
   ]
  },
  {
   "cell_type": "code",
   "execution_count": 57,
   "metadata": {},
   "outputs": [
    {
     "data": {
      "text/html": [
       "<div>\n",
       "<style scoped>\n",
       "    .dataframe tbody tr th:only-of-type {\n",
       "        vertical-align: middle;\n",
       "    }\n",
       "\n",
       "    .dataframe tbody tr th {\n",
       "        vertical-align: top;\n",
       "    }\n",
       "\n",
       "    .dataframe thead th {\n",
       "        text-align: right;\n",
       "    }\n",
       "</style>\n",
       "<table border=\"1\" class=\"dataframe\">\n",
       "  <thead>\n",
       "    <tr style=\"text-align: right;\">\n",
       "      <th></th>\n",
       "      <th>image</th>\n",
       "      <th>threshold</th>\n",
       "      <th>grain_number</th>\n",
       "      <th>index</th>\n",
       "      <th>branch_distance</th>\n",
       "      <th>branch_type</th>\n",
       "      <th>connected_segments</th>\n",
       "      <th>mean_pixel_value</th>\n",
       "      <th>stdev_pixel_value</th>\n",
       "      <th>min_value</th>\n",
       "      <th>median_value</th>\n",
       "      <th>middle_value</th>\n",
       "      <th>basename</th>\n",
       "    </tr>\n",
       "  </thead>\n",
       "  <tbody>\n",
       "    <tr>\n",
       "      <th>416</th>\n",
       "      <td>26</td>\n",
       "      <td>above</td>\n",
       "      <td>0</td>\n",
       "      <td>0</td>\n",
       "      <td>5.287317</td>\n",
       "      <td>1</td>\n",
       "      <td>[2, 3]</td>\n",
       "      <td>0.467721</td>\n",
       "      <td>0.187462</td>\n",
       "      <td>0.235981</td>\n",
       "      <td>0.443332</td>\n",
       "      <td>0.443332</td>\n",
       "      <td>..\\CONCR_test_FMH\\stp_files</td>\n",
       "    </tr>\n",
       "    <tr>\n",
       "      <th>417</th>\n",
       "      <td>26</td>\n",
       "      <td>above</td>\n",
       "      <td>0</td>\n",
       "      <td>1</td>\n",
       "      <td>10.979140</td>\n",
       "      <td>1</td>\n",
       "      <td>[2, 4]</td>\n",
       "      <td>0.557528</td>\n",
       "      <td>0.128185</td>\n",
       "      <td>0.416754</td>\n",
       "      <td>0.497521</td>\n",
       "      <td>0.497521</td>\n",
       "      <td>..\\CONCR_test_FMH\\stp_files</td>\n",
       "    </tr>\n",
       "    <tr>\n",
       "      <th>418</th>\n",
       "      <td>26</td>\n",
       "      <td>above</td>\n",
       "      <td>0</td>\n",
       "      <td>2</td>\n",
       "      <td>25.864529</td>\n",
       "      <td>2</td>\n",
       "      <td>[0, 1, 3, 4]</td>\n",
       "      <td>0.545081</td>\n",
       "      <td>0.154304</td>\n",
       "      <td>0.235981</td>\n",
       "      <td>0.584568</td>\n",
       "      <td>0.430377</td>\n",
       "      <td>..\\CONCR_test_FMH\\stp_files</td>\n",
       "    </tr>\n",
       "    <tr>\n",
       "      <th>419</th>\n",
       "      <td>26</td>\n",
       "      <td>above</td>\n",
       "      <td>0</td>\n",
       "      <td>3</td>\n",
       "      <td>56.415572</td>\n",
       "      <td>1</td>\n",
       "      <td>[0, 2]</td>\n",
       "      <td>0.519134</td>\n",
       "      <td>0.158724</td>\n",
       "      <td>0.235981</td>\n",
       "      <td>0.515525</td>\n",
       "      <td>0.658776</td>\n",
       "      <td>..\\CONCR_test_FMH\\stp_files</td>\n",
       "    </tr>\n",
       "    <tr>\n",
       "      <th>420</th>\n",
       "      <td>26</td>\n",
       "      <td>above</td>\n",
       "      <td>0</td>\n",
       "      <td>4</td>\n",
       "      <td>10.979140</td>\n",
       "      <td>1</td>\n",
       "      <td>[1, 2]</td>\n",
       "      <td>0.638340</td>\n",
       "      <td>0.134191</td>\n",
       "      <td>0.346688</td>\n",
       "      <td>0.708515</td>\n",
       "      <td>0.708515</td>\n",
       "      <td>..\\CONCR_test_FMH\\stp_files</td>\n",
       "    </tr>\n",
       "  </tbody>\n",
       "</table>\n",
       "</div>"
      ],
      "text/plain": [
       "     image threshold  grain_number  index  branch_distance  branch_type  \\\n",
       "416     26     above             0      0         5.287317            1   \n",
       "417     26     above             0      1        10.979140            1   \n",
       "418     26     above             0      2        25.864529            2   \n",
       "419     26     above             0      3        56.415572            1   \n",
       "420     26     above             0      4        10.979140            1   \n",
       "\n",
       "    connected_segments  mean_pixel_value  stdev_pixel_value  min_value  \\\n",
       "416             [2, 3]          0.467721           0.187462   0.235981   \n",
       "417             [2, 4]          0.557528           0.128185   0.416754   \n",
       "418       [0, 1, 3, 4]          0.545081           0.154304   0.235981   \n",
       "419             [0, 2]          0.519134           0.158724   0.235981   \n",
       "420             [1, 2]          0.638340           0.134191   0.346688   \n",
       "\n",
       "     median_value  middle_value                     basename  \n",
       "416      0.443332      0.443332  ..\\CONCR_test_FMH\\stp_files  \n",
       "417      0.497521      0.497521  ..\\CONCR_test_FMH\\stp_files  \n",
       "418      0.584568      0.430377  ..\\CONCR_test_FMH\\stp_files  \n",
       "419      0.515525      0.658776  ..\\CONCR_test_FMH\\stp_files  \n",
       "420      0.708515      0.708515  ..\\CONCR_test_FMH\\stp_files  "
      ]
     },
     "execution_count": 57,
     "metadata": {},
     "output_type": "execute_result"
    }
   ],
   "source": [
    "first_image = concr_data[concr_data[\"image\"] == 26]\n",
    "first_grain = first_image[first_image[\"grain_number\"] == 0]\n",
    "first_grain.head(17)\n",
    "\n"
   ]
  },
  {
   "cell_type": "code",
   "execution_count": 58,
   "metadata": {},
   "outputs": [
    {
     "data": {
      "text/html": [
       "<div>\n",
       "<style scoped>\n",
       "    .dataframe tbody tr th:only-of-type {\n",
       "        vertical-align: middle;\n",
       "    }\n",
       "\n",
       "    .dataframe tbody tr th {\n",
       "        vertical-align: top;\n",
       "    }\n",
       "\n",
       "    .dataframe thead th {\n",
       "        text-align: right;\n",
       "    }\n",
       "</style>\n",
       "<table border=\"1\" class=\"dataframe\">\n",
       "  <thead>\n",
       "    <tr style=\"text-align: right;\">\n",
       "      <th></th>\n",
       "      <th>image</th>\n",
       "      <th>threshold</th>\n",
       "      <th>grain_number</th>\n",
       "      <th>index</th>\n",
       "      <th>branch_distance</th>\n",
       "      <th>branch_type</th>\n",
       "      <th>connected_segments</th>\n",
       "      <th>mean_pixel_value</th>\n",
       "      <th>stdev_pixel_value</th>\n",
       "      <th>min_value</th>\n",
       "      <th>median_value</th>\n",
       "      <th>middle_value</th>\n",
       "      <th>basename</th>\n",
       "    </tr>\n",
       "  </thead>\n",
       "  <tbody>\n",
       "    <tr>\n",
       "      <th>780</th>\n",
       "      <td>9</td>\n",
       "      <td>above</td>\n",
       "      <td>0</td>\n",
       "      <td>0</td>\n",
       "      <td>9.598072</td>\n",
       "      <td>1</td>\n",
       "      <td>[1, 2]</td>\n",
       "      <td>0.449777</td>\n",
       "      <td>0.244532</td>\n",
       "      <td>0.172870</td>\n",
       "      <td>0.402867</td>\n",
       "      <td>0.402867</td>\n",
       "      <td>..\\CONCR_test_FMH\\stp_files</td>\n",
       "    </tr>\n",
       "    <tr>\n",
       "      <th>781</th>\n",
       "      <td>9</td>\n",
       "      <td>above</td>\n",
       "      <td>0</td>\n",
       "      <td>1</td>\n",
       "      <td>13.978229</td>\n",
       "      <td>2</td>\n",
       "      <td>[0, 2, 3, 4]</td>\n",
       "      <td>0.525725</td>\n",
       "      <td>0.189700</td>\n",
       "      <td>0.270479</td>\n",
       "      <td>0.515265</td>\n",
       "      <td>0.300083</td>\n",
       "      <td>..\\CONCR_test_FMH\\stp_files</td>\n",
       "    </tr>\n",
       "    <tr>\n",
       "      <th>782</th>\n",
       "      <td>9</td>\n",
       "      <td>above</td>\n",
       "      <td>0</td>\n",
       "      <td>2</td>\n",
       "      <td>17.884479</td>\n",
       "      <td>1</td>\n",
       "      <td>[0, 1]</td>\n",
       "      <td>0.750646</td>\n",
       "      <td>0.058593</td>\n",
       "      <td>0.562986</td>\n",
       "      <td>0.763643</td>\n",
       "      <td>0.749430</td>\n",
       "      <td>..\\CONCR_test_FMH\\stp_files</td>\n",
       "    </tr>\n",
       "    <tr>\n",
       "      <th>783</th>\n",
       "      <td>9</td>\n",
       "      <td>above</td>\n",
       "      <td>0</td>\n",
       "      <td>3</td>\n",
       "      <td>69.041480</td>\n",
       "      <td>1</td>\n",
       "      <td>[1, 4]</td>\n",
       "      <td>0.588651</td>\n",
       "      <td>0.172226</td>\n",
       "      <td>0.256500</td>\n",
       "      <td>0.612129</td>\n",
       "      <td>0.571691</td>\n",
       "      <td>..\\CONCR_test_FMH\\stp_files</td>\n",
       "    </tr>\n",
       "    <tr>\n",
       "      <th>784</th>\n",
       "      <td>9</td>\n",
       "      <td>above</td>\n",
       "      <td>0</td>\n",
       "      <td>4</td>\n",
       "      <td>19.363696</td>\n",
       "      <td>1</td>\n",
       "      <td>[1, 3]</td>\n",
       "      <td>0.677917</td>\n",
       "      <td>0.102506</td>\n",
       "      <td>0.438264</td>\n",
       "      <td>0.686308</td>\n",
       "      <td>0.683275</td>\n",
       "      <td>..\\CONCR_test_FMH\\stp_files</td>\n",
       "    </tr>\n",
       "  </tbody>\n",
       "</table>\n",
       "</div>"
      ],
      "text/plain": [
       "     image threshold  grain_number  index  branch_distance  branch_type  \\\n",
       "780      9     above             0      0         9.598072            1   \n",
       "781      9     above             0      1        13.978229            2   \n",
       "782      9     above             0      2        17.884479            1   \n",
       "783      9     above             0      3        69.041480            1   \n",
       "784      9     above             0      4        19.363696            1   \n",
       "\n",
       "    connected_segments  mean_pixel_value  stdev_pixel_value  min_value  \\\n",
       "780             [1, 2]          0.449777           0.244532   0.172870   \n",
       "781       [0, 2, 3, 4]          0.525725           0.189700   0.270479   \n",
       "782             [0, 1]          0.750646           0.058593   0.562986   \n",
       "783             [1, 4]          0.588651           0.172226   0.256500   \n",
       "784             [1, 3]          0.677917           0.102506   0.438264   \n",
       "\n",
       "     median_value  middle_value                     basename  \n",
       "780      0.402867      0.402867  ..\\CONCR_test_FMH\\stp_files  \n",
       "781      0.515265      0.300083  ..\\CONCR_test_FMH\\stp_files  \n",
       "782      0.763643      0.749430  ..\\CONCR_test_FMH\\stp_files  \n",
       "783      0.612129      0.571691  ..\\CONCR_test_FMH\\stp_files  \n",
       "784      0.686308      0.683275  ..\\CONCR_test_FMH\\stp_files  "
      ]
     },
     "execution_count": 58,
     "metadata": {},
     "output_type": "execute_result"
    }
   ],
   "source": [
    "first_image2 = concr_data[concr_data[\"image\"] == 9]\n",
    "first_grain2 = first_image2[first_image2[\"grain_number\"] == 0]\n",
    "first_grain2.head(17)"
   ]
  },
  {
   "cell_type": "code",
   "execution_count": 59,
   "metadata": {},
   "outputs": [],
   "source": [
    "#When using loc/iloc, the part before the comma is the rows you want, and the part after the comma is the columns you want \n",
    "#to select."
   ]
  },
  {
   "cell_type": "code",
   "execution_count": 60,
   "metadata": {},
   "outputs": [
    {
     "name": "stdout",
     "output_type": "stream",
     "text": [
      "Index([416, 417, 418, 419, 420], dtype='int64')\n"
     ]
    }
   ],
   "source": [
    "seg_index=first_grain[\"index\"] \n",
    "connected_branches=first_grain[\"connected_segments\"]\n",
    "seg_type=first_grain[\"branch_type\"]\n",
    "print(connected_branches.index)\n",
    "\n",
    "seg_index2=first_grain2[\"index\"] \n",
    "connected_branches2=first_grain2[\"connected_segments\"]\n",
    "seg_type2=first_grain2[\"branch_type\"]"
   ]
  },
  {
   "cell_type": "code",
   "execution_count": 61,
   "metadata": {},
   "outputs": [],
   "source": [
    "\n",
    "def str2list(string):\n",
    "    array = list(np.fromstring(string[1:-1], dtype=int, sep=','))\n",
    "    return array \n",
    "\n"
   ]
  },
  {
   "cell_type": "code",
   "execution_count": 62,
   "metadata": {},
   "outputs": [
    {
     "name": "stdout",
     "output_type": "stream",
     "text": [
      "[[2, 3], [2, 4], [0, 1, 3, 4], [0, 2], [1, 2]]\n"
     ]
    }
   ],
   "source": [
    "array_connected_branches = [str2list(connected_branches[index]) for index in connected_branches.index] #list of np arrays \n",
    "array_connected_branches2 = [str2list(connected_branches2[index]) for index in connected_branches2.index] #list of np arrays \n",
    "print(array_connected_branches)"
   ]
  },
  {
   "cell_type": "code",
   "execution_count": 63,
   "metadata": {},
   "outputs": [
    {
     "name": "stdout",
     "output_type": "stream",
     "text": [
      "{0: [3, 1], 1: [4, 2], 2: [3, 4], 3: [3, 5], 4: [4, 6]}\n",
      "{0: [2, 1], 1: [2, 3], 2: [2, 4], 3: [3, 5], 4: [3, 6]}\n"
     ]
    }
   ],
   "source": [
    "def asignar_nodos(eje_a_nodos, i, nodo_id):\n",
    "    \"\"\" Asigna nodos a un segmento del tipo 2.\"\"\"\n",
    "    m1, m2 = eje_a_nodos[i]\n",
    "    if m1 == -1 and m2 == -1:\n",
    "        eje_a_nodos[i] = [nodo_id, nodo_id + 1]\n",
    "        return nodo_id + 2\n",
    "    elif m1 != -1 and m2 == -1:\n",
    "        eje_a_nodos[i] = [m1, nodo_id]\n",
    "        return nodo_id + 1\n",
    "    elif m1 == -1 and m2 != -1:\n",
    "        eje_a_nodos[i] = [nodo_id, m2]\n",
    "        return nodo_id + 1\n",
    "    return nodo_id\n",
    "\n",
    "def clasificar_vecinos(array_connected_branches, i):\n",
    "    \"\"\" Clasifica los vecinos en dos grupos según la conectividad.\"\"\"\n",
    "    group1, group2 = [], []\n",
    "    \n",
    "    for neighbor in array_connected_branches[i]:\n",
    "        segments = list(set(array_connected_branches[neighbor]) & set(array_connected_branches[i]))\n",
    "        if not group1:\n",
    "            segments.append(neighbor)\n",
    "            group1.append(segments)\n",
    "        elif neighbor not in group1[0] and not group2:\n",
    "            segments.append(neighbor)\n",
    "            group2.append(segments)\n",
    "        elif group2 and neighbor not in group2[0]:\n",
    "            segments.append(neighbor)\n",
    "            group1.append(segments)\n",
    "    \n",
    "    return group1, group2\n",
    "\n",
    "def actualizar_nodos(eje_a_nodos, group, nodo):\n",
    "    \"\"\" Actualiza los nodos de los segmentos en un grupo.\"\"\"\n",
    "    for segment in group[0]:\n",
    "        n1, n2 = eje_a_nodos[segment]\n",
    "        if n1 != -1 and n2 != -1:\n",
    "            continue\n",
    "        elif n1 != -1 and n1 != nodo:\n",
    "            eje_a_nodos[segment] = [n1, nodo]\n",
    "        elif n2 != -1 and n2 != nodo:\n",
    "            eje_a_nodos[segment] = [nodo, n2]\n",
    "        else:\n",
    "            eje_a_nodos[segment] = [nodo, -1]\n",
    "\n",
    "def procesar_segmentos(array_connected_branches, seg_type):\n",
    "    \"\"\" Procesa los segmentos y asigna nodos.\"\"\"\n",
    "    m = len(array_connected_branches)\n",
    "    eje_a_nodos = {i: [-1, -1] for i in range(m)}\n",
    "    nodo_id = 1\n",
    "    \n",
    "    for i in range(m):\n",
    "        if seg_type[seg_type.index[i]] == 2:\n",
    "            nodo_id = asignar_nodos(eje_a_nodos, i, nodo_id)\n",
    "            group1, group2 = clasificar_vecinos(array_connected_branches, i)\n",
    "            actualizar_nodos(eje_a_nodos, group1, eje_a_nodos[i][0])\n",
    "            actualizar_nodos(eje_a_nodos, group2, eje_a_nodos[i][1])\n",
    "        else:\n",
    "            eje_a_nodos[i] = [eje_a_nodos[i][0],nodo_id]\n",
    "            nodo_id += 1\n",
    "    return eje_a_nodos\n",
    "\n",
    "\n",
    "# Ejecutar proceso\n",
    "eje_a_nodos = procesar_segmentos(array_connected_branches, seg_type)\n",
    "eje_a_nodos2 = procesar_segmentos(array_connected_branches2, seg_type2)\n",
    "print(eje_a_nodos)\n",
    "print(eje_a_nodos2)\n"
   ]
  },
  {
   "cell_type": "code",
   "execution_count": 64,
   "metadata": {},
   "outputs": [
    {
     "name": "stdout",
     "output_type": "stream",
     "text": [
      "[(2, 1, 9.598072147620456), (2, 3, 13.978229184541233), (2, 4, 17.884478689491726), (3, 5, 69.04148032229202), (3, 6, 19.363695909996693)]\n"
     ]
    }
   ],
   "source": [
    "weigths=first_grain[\"branch_distance\"] #200 is the maximum in nm for a branch. All normalized to 200 nm. \n",
    "weigths2=first_grain2[\"branch_distance\"]\n",
    "\n",
    "m = len(eje_a_nodos)\n",
    "m2 = len(eje_a_nodos2)\n",
    "list_nx=[]\n",
    "list_nx2=[]\n",
    "for i in range(m):\n",
    "    n1,n2 = eje_a_nodos[i]\n",
    "    list_nx.append((n1,n2,weigths[weigths.index[i]]))\n",
    "for i in range(m2):\n",
    "    n1,n2 = eje_a_nodos2[i]\n",
    "    list_nx2.append((n1,n2,weigths2[weigths2.index[i]]))\n",
    "print(list_nx2)\n"
   ]
  },
  {
   "cell_type": "code",
   "execution_count": null,
   "metadata": {},
   "outputs": [],
   "source": []
  },
  {
   "cell_type": "code",
   "execution_count": 65,
   "metadata": {},
   "outputs": [
    {
     "data": {
      "image/png": "[encoded data removed]",
      "text/plain": [
       "<Figure size 500x400 with 1 Axes>"
      ]
     },
     "metadata": {},
     "output_type": "display_data"
    },
    {
     "data": {
      "image/png": "[encoded data removed]",
      "text/plain": [
       "<Figure size 500x400 with 1 Axes>"
      ]
     },
     "metadata": {},
     "output_type": "display_data"
    }
   ],
   "source": [
    "fig, ax = plt.subplots(figsize=(5,4))\n",
    "Gw = nx.Graph()\n",
    "# Nodos y vonexiones\n",
    "Gw.add_weighted_edges_from(list_nx)\n",
    "\n",
    "Gw.edges(data=True)\n",
    "nx.draw(Gw, with_labels=True, ax=ax) \n",
    "nx.is_weighted(Gw)\n",
    "\n",
    "fig, ax = plt.subplots(figsize=(5,4))\n",
    "Gw2= nx.Graph()\n",
    "# Nodos y vonexiones\n",
    "Gw2.add_weighted_edges_from(list_nx2)\n",
    "\n",
    "\n",
    "Gw2.edges(data=True)\n",
    "layout = nx.spring_layout(Gw2)\n",
    "nx.draw(Gw2, with_labels=True, ax=ax) \n",
    "\n",
    "\n"
   ]
  },
  {
   "cell_type": "code",
   "execution_count": 69,
   "metadata": {},
   "outputs": [
    {
     "data": {
      "text/plain": [
       "{(2, 1): Text(0.09349033989966604, 0.1949275655412699, '9.60'),\n",
       " (2, 3): Text(0.055483464621077394, 0.21225430466259287, '13.98'),\n",
       " (2, 4): Text(-0.04543482978420316, 0.409499826909822, '17.88'),\n",
       " (3, 5): Text(0.09172510536414369, -0.5311629924370127, '69.04'),\n",
       " (3, 6): Text(-0.08429713458909202, 0.1389973347712321, '19.36')}"
      ]
     },
     "execution_count": 69,
     "metadata": {},
     "output_type": "execute_result"
    },
    {
     "data": {
      "image/png": "[encoded data removed]",
      "text/plain": [
       "<Figure size 800x600 with 1 Axes>"
      ]
     },
     "metadata": {},
     "output_type": "display_data"
    }
   ],
   "source": [
    "edge_weights = nx.get_edge_attributes(Gw, 'weight')\n",
    "\n",
    "# Usar el layout Kamada-Kawai que respeta las distancias\n",
    "pos = nx.kamada_kawai_layout(Gw, weight='weight')\n",
    "\n",
    "# Dibujar el grafo\n",
    "plt.figure(figsize=(8, 6))\n",
    "nx.draw(Gw, pos, with_labels=True, node_color='lightblue', edge_color='gray', node_size=500, font_size=10)\n",
    "\n",
    "# Agregar los pesos de los ejes como etiquetas\n",
    "edge_labels = {(u, v): f\"{w:.2f}\" for u, v, w in list_nx2}\n",
    "nx.draw_networkx_edge_labels(Gw, pos, edge_labels=edge_labels, font_size=9)"
   ]
  },
  {
   "cell_type": "code",
   "execution_count": 68,
   "metadata": {},
   "outputs": [
    {
     "data": {
      "text/plain": [
       "{(2, 1): Text(0.17147188985957418, 0.3634137340264356, '9.60'),\n",
       " (2, 3): Text(0.13469242664267655, 0.16639017443642778, '13.98'),\n",
       " (2, 4): Text(-0.04357701866940855, 0.3757267122576087, '17.88'),\n",
       " (3, 5): Text(-0.2813013941065674, -0.48249083782969715, '69.04'),\n",
       " (3, 6): Text(0.28810126421451043, -0.09026622237354998, '19.36')}"
      ]
     },
     "execution_count": 68,
     "metadata": {},
     "output_type": "execute_result"
    },
    {
     "data": {
      "image/png": "[encoded data removed]",
      "text/plain": [
       "<Figure size 800x600 with 1 Axes>"
      ]
     },
     "metadata": {},
     "output_type": "display_data"
    }
   ],
   "source": [
    "edge_weights = nx.get_edge_attributes(Gw2, 'weight')\n",
    "\n",
    "# Usar el layout Kamada-Kawai que respeta las distancias\n",
    "pos = nx.kamada_kawai_layout(Gw2, weight='weight')\n",
    "\n",
    "# Dibujar el grafo\n",
    "plt.figure(figsize=(8, 6))\n",
    "nx.draw(Gw2, pos, with_labels=True, node_color='lightblue', edge_color='gray', node_size=500, font_size=10)\n",
    "\n",
    "# Agregar los pesos de los ejes como etiquetas\n",
    "edge_labels = {(u, v): f\"{w:.2f}\" for u, v, w in list_nx2}\n",
    "nx.draw_networkx_edge_labels(Gw2, pos, edge_labels=edge_labels, font_size=9)"
   ]
  },
  {
   "cell_type": "markdown",
   "metadata": {},
   "source": [
    "#1 are they isomorphic?\n"
   ]
  },
  {
   "cell_type": "code",
   "execution_count": 70,
   "metadata": {},
   "outputs": [
    {
     "name": "stdout",
     "output_type": "stream",
     "text": [
      "True\n"
     ]
    }
   ],
   "source": [
    "tf = nx.is_isomorphic(Gw, Gw2, node_match=None, edge_match=None)\n",
    "print(tf)"
   ]
  },
  {
   "cell_type": "code",
   "execution_count": 71,
   "metadata": {},
   "outputs": [
    {
     "name": "stdout",
     "output_type": "stream",
     "text": [
      "Asignación de nodos: {3: 2, 1: 1, 4: 3, 5: 4, 2: 5, 6: 6}\n"
     ]
    }
   ],
   "source": [
    "matcher = nx.algorithms.isomorphism.GraphMatcher(Gw, Gw2)\n",
    "if matcher.is_isomorphic():\n",
    "    mapping = matcher.mapping  # Diccionario con la asignación de nodos\n",
    "    print(\"Asignación de nodos:\", mapping)\n",
    "else:\n",
    "    print(\"Los grafos no son isomorfos\")"
   ]
  },
  {
   "cell_type": "markdown",
   "metadata": {},
   "source": [
    "If they are isomorophic, extract the distance. For that we need to compare each possible combination of the adjancecy matrix with each possible combination of the other matrix (a lot of comparison, very time-consuming for bigger graphs) and calculate a distance between them, and keep the minimun. "
   ]
  },
  {
   "cell_type": "code",
   "execution_count": 72,
   "metadata": {},
   "outputs": [],
   "source": [
    "from scipy.optimize import linear_sum_assignment\n",
    "from itertools import permutations"
   ]
  },
  {
   "cell_type": "code",
   "execution_count": 73,
   "metadata": {},
   "outputs": [
    {
     "name": "stdout",
     "output_type": "stream",
     "text": [
      "[[ 0.          0.          5.28731726  0.          0.          0.        ]\n",
      " [ 0.          0.          0.         10.9791399   0.          0.        ]\n",
      " [ 5.28731726  0.          0.         25.86452931 56.41557158  0.        ]\n",
      " [ 0.         10.9791399  25.86452931  0.          0.         10.9791399 ]\n",
      " [ 0.          0.         56.41557158  0.          0.          0.        ]\n",
      " [ 0.          0.          0.         10.9791399   0.          0.        ]]\n",
      "[[ 0.          9.59807215  0.          0.          0.          0.        ]\n",
      " [ 9.59807215  0.         13.97822918 17.88447869  0.          0.        ]\n",
      " [ 0.         13.97822918  0.          0.         69.04148032 19.36369591]\n",
      " [ 0.         17.88447869  0.          0.          0.          0.        ]\n",
      " [ 0.          0.         69.04148032  0.          0.          0.        ]\n",
      " [ 0.          0.         19.36369591  0.          0.          0.        ]]\n"
     ]
    }
   ],
   "source": [
    "AM1= nx.adjacency_matrix(Gw,nodelist=[1,2,3,4,5,6]).toarray()\n",
    "AM2= nx.adjacency_matrix(Gw2,nodelist=[1,2,3,4,5,6]).toarray()\n",
    "print(AM1)\n",
    "print(AM2)"
   ]
  },
  {
   "cell_type": "code",
   "execution_count": 74,
   "metadata": {},
   "outputs": [
    {
     "name": "stdout",
     "output_type": "stream",
     "text": [
      "Coste minimo 93.74998811881184\n",
      "(5, 3, 2, 1, 4, 0)\n",
      "Asignación óptima de nodos: {0: 5, 1: 3, 2: 2, 3: 1, 4: 4, 5: 0}\n",
      "[[ 0.          0.          5.28731726  0.          0.          0.        ]\n",
      " [ 0.          0.          0.         10.9791399   0.          0.        ]\n",
      " [ 5.28731726  0.          0.         25.86452931 56.41557158  0.        ]\n",
      " [ 0.         10.9791399  25.86452931  0.          0.         10.9791399 ]\n",
      " [ 0.          0.         56.41557158  0.          0.          0.        ]\n",
      " [ 0.          0.          0.         10.9791399   0.          0.        ]]\n",
      "[[ 0.          0.         19.36369591  0.          0.          0.        ]\n",
      " [ 0.          0.          0.         17.88447869  0.          0.        ]\n",
      " [19.36369591  0.          0.         13.97822918 69.04148032  0.        ]\n",
      " [ 0.         17.88447869 13.97822918  0.          0.          9.59807215]\n",
      " [ 0.          0.         69.04148032  0.          0.          0.        ]\n",
      " [ 0.          0.          0.          9.59807215  0.          0.        ]]\n"
     ]
    }
   ],
   "source": [
    "n = len(AM1)\n",
    "best_perm = None\n",
    "min_cost = float('inf')\n",
    "\n",
    "# Probar todas las permutaciones posibles de nodos\n",
    "for perm in permutations(range(n)):  \n",
    "    #print(perm)\n",
    "    # Reordenar filas y columnas de A2 según la permutación\n",
    "    AM2_permuted = AM2[np.ix_(perm, perm)]\n",
    "    \n",
    "    # Calcular la diferencia de pesos\n",
    "    cost = np.sum(np.abs(AM1 - AM2_permuted))\n",
    "    # Guardar la mejor permutación\n",
    "    if cost < min_cost:\n",
    "        min_cost = cost\n",
    "        best_perm = perm\n",
    "        \n",
    "best_AM2 = AM2[np.ix_(best_perm, best_perm)]\n",
    "# Imprimir la mejor asignación de nodos\n",
    "print(\"Coste minimo\", min_cost)\n",
    "print(best_perm)\n",
    "node_mapping = {i: best_perm[i] for i in range(n)}\n",
    "print(\"Asignación óptima de nodos:\", node_mapping)\n",
    "print(AM1)\n",
    "print(best_AM2)"
   ]
  },
  {
   "cell_type": "code",
   "execution_count": 75,
   "metadata": {},
   "outputs": [
    {
     "name": "stdout",
     "output_type": "stream",
     "text": [
      "[[ 0.         42.13098648  5.28731726 31.15184658 61.70288884 42.13098648]\n",
      " [42.13098648  0.         36.84366922 10.9791399  93.2592408  21.95827981]\n",
      " [ 5.28731726 36.84366922  0.         25.86452931 56.41557158 36.84366922]\n",
      " [31.15184658 10.9791399  25.86452931  0.         82.2801009  10.9791399 ]\n",
      " [61.70288884 93.2592408  56.41557158 82.2801009   0.         93.2592408 ]\n",
      " [42.13098648 21.95827981 36.84366922 10.9791399  93.2592408   0.        ]]\n",
      "[[  0.           9.59807215  23.57630133  27.48255084  92.61778165\n",
      "   42.93999724]\n",
      " [  9.59807215   0.          13.97822918  17.88447869  83.01970951\n",
      "   33.34192509]\n",
      " [ 23.57630133  13.97822918   0.          31.86270787  69.04148032\n",
      "   19.36369591]\n",
      " [ 27.48255084  17.88447869  31.86270787   0.         100.9041882\n",
      "   51.22640378]\n",
      " [ 92.61778165  83.01970951  69.04148032 100.9041882    0.\n",
      "   88.40517623]\n",
      " [ 42.93999724  33.34192509  19.36369591  51.22640378  88.40517623\n",
      "    0.        ]]\n"
     ]
    }
   ],
   "source": [
    "\n",
    "def graph_distance_matrix(graph):\n",
    "    length = nx.all_pairs_dijkstra_path_length(graph)\n",
    "    nodes = list(graph.nodes)\n",
    "    n = len(nodes)\n",
    "    dist_matrix = np.zeros((n, n))\n",
    "\n",
    "    for i,j in length:\n",
    "        for a in range(len(j.keys())):\n",
    "            p = list(j.keys())\n",
    "            col = p[a]\n",
    "            val = list(j.values())\n",
    "            dist_matrix[i-1,col-1] = val[a]\n",
    "\n",
    "    return dist_matrix\n",
    "\n",
    "\n",
    "A1 = graph_distance_matrix(Gw)\n",
    "A2 = graph_distance_matrix(Gw2)\n",
    "print(A1)\n",
    "print(A2)"
   ]
  },
  {
   "cell_type": "code",
   "execution_count": 76,
   "metadata": {},
   "outputs": [
    {
     "name": "stdout",
     "output_type": "stream",
     "text": [
      "Coste minimo 236.94080688393393\n",
      "(5, 3, 2, 1, 4, 0)\n",
      "Asignación óptima de nodos: {0: 5, 1: 3, 2: 2, 3: 1, 4: 4, 5: 0}\n",
      "[[ 0.         42.13098648  5.28731726 31.15184658 61.70288884 42.13098648]\n",
      " [42.13098648  0.         36.84366922 10.9791399  93.2592408  21.95827981]\n",
      " [ 5.28731726 36.84366922  0.         25.86452931 56.41557158 36.84366922]\n",
      " [31.15184658 10.9791399  25.86452931  0.         82.2801009  10.9791399 ]\n",
      " [61.70288884 93.2592408  56.41557158 82.2801009   0.         93.2592408 ]\n",
      " [42.13098648 21.95827981 36.84366922 10.9791399  93.2592408   0.        ]]\n",
      "[[  0.          51.22640378  19.36369591  33.34192509  88.40517623\n",
      "   42.93999724]\n",
      " [ 51.22640378   0.          31.86270787  17.88447869 100.9041882\n",
      "   27.48255084]\n",
      " [ 19.36369591  31.86270787   0.          13.97822918  69.04148032\n",
      "   23.57630133]\n",
      " [ 33.34192509  17.88447869  13.97822918   0.          83.01970951\n",
      "    9.59807215]\n",
      " [ 88.40517623 100.9041882   69.04148032  83.01970951   0.\n",
      "   92.61778165]\n",
      " [ 42.93999724  27.48255084  23.57630133   9.59807215  92.61778165\n",
      "    0.        ]]\n"
     ]
    }
   ],
   "source": [
    "\n",
    "n = len(A1)\n",
    "best_perm = None\n",
    "min_cost = float('inf')\n",
    "\n",
    "# Probar todas las permutaciones posibles de nodos\n",
    "for perm in permutations(range(n)):  \n",
    "    #print(perm)\n",
    "    # Reordenar filas y columnas de A2 según la permutación\n",
    "    A2_permuted = A2[np.ix_(perm, perm)]\n",
    "    \n",
    "    # Calcular la diferencia de pesos\n",
    "    cost = np.sum(np.abs(A1 - A2_permuted))\n",
    "    # Guardar la mejor permutación\n",
    "    if cost < min_cost:\n",
    "        min_cost = cost\n",
    "        best_perm = perm\n",
    "        \n",
    "best_A2 = A2[np.ix_(best_perm, best_perm)]\n",
    "# Imprimir la mejor asignación de nodos\n",
    "print(\"Coste minimo\", min_cost)\n",
    "print(best_perm)\n",
    "node_mapping = {i: best_perm[i] for i in range(n)}\n",
    "print(\"Asignación óptima de nodos:\", node_mapping)\n",
    "print(A1)\n",
    "print(best_A2)"
   ]
  },
  {
   "cell_type": "markdown",
   "metadata": {},
   "source": [
    "With this we have the optimal node assignment - and have the distance between the two matrixes. This algortith is not time-optimal. It is goung to increase with bigger graphs. \n",
    "Now we will try to reconstruct a mean skeleton from the mean of the two distance matrixes."
   ]
  },
  {
   "cell_type": "code",
   "execution_count": 77,
   "metadata": {},
   "outputs": [
    {
     "name": "stdout",
     "output_type": "stream",
     "text": [
      "[[ 0.          0.         12.32550659  0.          0.          0.        ]\n",
      " [ 0.          0.          0.         14.4318093   0.          0.        ]\n",
      " [12.32550659  0.          0.         19.92137925 62.72852595  0.        ]\n",
      " [ 0.         14.4318093  19.92137925  0.          0.         10.28860603]\n",
      " [ 0.          0.         62.72852595  0.          0.          0.        ]\n",
      " [ 0.          0.          0.         10.28860603  0.          0.        ]]\n"
     ]
    }
   ],
   "source": [
    "suma = np.add(AM1,best_AM2)\n",
    "mean = suma/2\n",
    "print(mean)"
   ]
  },
  {
   "cell_type": "code",
   "execution_count": 78,
   "metadata": {},
   "outputs": [
    {
     "name": "stdout",
     "output_type": "stream",
     "text": [
      "{(1, 3): 12.325506585962867, (2, 4): 14.431809297045364, (3, 4): 19.921379249344863, (3, 5): 62.72852595236215, (4, 6): 10.288606026109727}\n"
     ]
    },
    {
     "data": {
      "image/png": "[encoded data removed]",
      "text/plain": [
       "<Figure size 640x480 with 1 Axes>"
      ]
     },
     "metadata": {},
     "output_type": "display_data"
    }
   ],
   "source": [
    "DG = nx.from_numpy_array(mean, create_using=nx.Graph,nodelist=[1,2,3,4,5,6])\n",
    "\n",
    "\n",
    "DG.edges(data=True)\n",
    "nx.draw(DG,with_labels=True) \n",
    "edge_weights = nx.get_edge_attributes(DG, 'weight')\n",
    "print(edge_weights)"
   ]
  },
  {
   "cell_type": "code",
   "execution_count": 79,
   "metadata": {},
   "outputs": [
    {
     "data": {
      "text/plain": [
       "{(1, 3): Text(0.20900050686134664, 0.05974582548873908, '12.33'),\n",
       " (2, 4): Text(-0.18518284624686066, 0.36019884685924675, '14.43'),\n",
       " (3, 4): Text(-0.03222871313114156, 0.14927173828859286, '19.92'),\n",
       " (3, 5): Text(0.19371221080157874, -0.47048692833793293, '62.73'),\n",
       " (4, 6): Text(-0.24975961685375206, 0.19981031626760948, '10.29')}"
      ]
     },
     "execution_count": 79,
     "metadata": {},
     "output_type": "execute_result"
    },
    {
     "data": {
      "image/png": "[encoded data removed]",
      "text/plain": [
       "<Figure size 800x600 with 1 Axes>"
      ]
     },
     "metadata": {},
     "output_type": "display_data"
    }
   ],
   "source": [
    "edge_weights = nx.get_edge_attributes(DG, 'weight')\n",
    "\n",
    "# Usar el layout Kamada-Kawai que respeta las distancias\n",
    "pos = nx.kamada_kawai_layout(DG, weight='weight')\n",
    "\n",
    "# Dibujar el grafo\n",
    "plt.figure(figsize=(8, 6))\n",
    "nx.draw(DG, pos, with_labels=True, node_color='lightblue', edge_color='gray', node_size=500, font_size=10)\n",
    "\n",
    "# Agregar los pesos de los ejes como etiquetas\n",
    "edge_labels = {dupl: f\"{w:.2f}\" for dupl, w in edge_weights.items()}\n",
    "#edge_labels = {edge: f\"{weight:.2f}\" for edge, weight in edge_weights.items()}\n",
    "nx.draw_networkx_edge_labels(Gw2, pos, edge_labels=edge_labels, font_size=9)"
   ]
  },
  {
   "cell_type": "code",
   "execution_count": null,
   "metadata": {},
   "outputs": [
    {
     "name": "stdout",
     "output_type": "stream",
     "text": [
      "[[0.         0.23506899 0.20458735 0.35176573 0.38510765 0.47822809]\n",
      " [0.23506899 0.         0.03048164 0.17766002 0.21100194 0.30412238]\n",
      " [0.20458735 0.03048164 0.         0.14717838 0.1805203  0.27364074]\n",
      " [0.35176573 0.17766002 0.14717838 0.         0.03334193 0.12646236]\n",
      " [0.38510765 0.21100194 0.1805203  0.03334193 0.         0.15980429]\n",
      " [0.47822809 0.30412238 0.27364074 0.12646236 0.15980429 0.        ]]\n",
      "[[0.         0.2118397  0.10895364 0.11383645 0.32365363 0.14836315]\n",
      " [0.2118397  0.         0.10288606 0.09800325 0.30782042 0.14229557]\n",
      " [0.10895364 0.10288606 0.         0.00488281 0.21469999 0.03940951]\n",
      " [0.11383645 0.09800325 0.00488281 0.         0.20981717 0.04429232]\n",
      " [0.32365363 0.30782042 0.21469999 0.20981717 0.         0.25410949]\n",
      " [0.14836315 0.14229557 0.03940951 0.04429232 0.25410949 0.        ]]\n",
      "[[0.47822809 0.26638839 0.36927445 0.36439164 0.32365363 0.32986494]\n",
      " [0.26638839 0.47822809 0.37534203 0.38022484 0.30782042 0.33593253]\n",
      " [0.36927445 0.37534203 0.47822809 0.47334528 0.26352811 0.43881859]\n",
      " [0.36439164 0.38022484 0.47334528 0.47822809 0.26841092 0.43393577]\n",
      " [0.32365363 0.30782042 0.26352811 0.26841092 0.47822809 0.25410949]\n",
      " [0.32986494 0.33593253 0.43881859 0.43393577 0.25410949 0.47822809]]\n",
      "[0 1 2 3 4 5]\n",
      "[1 0 4 5 2 3]\n",
      "Distancia Gromov-Hausdorff: 0.4339\n"
     ]
    }
   ],
   "source": [
    "\n",
    "\n",
    "def graph_distance_matrix(graph):\n",
    "    length = nx.all_pairs_dijkstra_path_length(graph)\n",
    "    nodes = list(graph.nodes)\n",
    "    n = len(nodes)\n",
    "    dist_matrix = np.zeros((n, n))\n",
    "\n",
    "    for i,j in length:\n",
    "        for a in range(len(j.keys())):\n",
    "            p = list(j.keys())\n",
    "            col = p[a]\n",
    "            val = list(j.values())\n",
    "            dist_matrix[i-1,col-1] = val[a]\n",
    "\n",
    "    return dist_matrix\n",
    "\n",
    "def gromov_hausdorff_distance(G1, G2):\n",
    "    \"\"\"Calcula una aproximación a la distancia Gromov-Hausdorff entre dos grafos.\"\"\"\n",
    "    D1 = graph_distance_matrix(G1)\n",
    "    print(D1)\n",
    "    D2 = graph_distance_matrix(G2)\n",
    "    print(D2)\n",
    "    \n",
    "    # Verificamos tamaños y ajustamos si es necesario\n",
    "    if D1.shape != D2.shape:\n",
    "        raise ValueError(\"Los grafos deben tener el mismo número de nodos para esta aproximación.\")\n",
    "    \n",
    "     # Calcula la matriz de costos entre distancias\n",
    "    n = D1.shape[0]\n",
    "    cost_matrix = np.zeros((n, n))\n",
    "    for i in range(n):\n",
    "        for j in range(n):\n",
    "            cost_matrix[i, j] = np.max(np.abs(D1 - D2[i, j]))\n",
    "    \n",
    "    # Encuentra la asignación óptima de nodos usando el algoritmo húngaro\n",
    "    print(cost_matrix)\n",
    "    row_ind, col_ind = linear_sum_assignment(cost_matrix)\n",
    "    print(row_ind)\n",
    "    print(col_ind)\n",
    "    # Calcula la distancia GH usando la asignación óptima\n",
    "    gh_distance = cost_matrix[row_ind, col_ind].max()\n",
    "    \n",
    "    # Calcula la matriz de costos entre distancias\n",
    "    #cost_matrix = np.abs(D1[:, :, np.newaxis] - D2[np.newaxis, :, :]).max(axis=(1, 2))\n",
    "\n",
    "    \n",
    "    return gh_distance\n",
    "\n",
    "\n",
    "distancia = gromov_hausdorff_distance(Gw, Gw2)\n",
    "print(f\"Distancia Gromov-Hausdorff: {distancia:.4f}\")"
   ]
  },
  {
   "cell_type": "code",
   "execution_count": 12,
   "metadata": {},
   "outputs": [
    {
     "name": "stdout",
     "output_type": "stream",
     "text": [
      "[0.20458735169226888, 0.030481640117054405, 0.14717837794793714, 0.03334192509453792, 0.126462361593259]\n",
      "{'weight': 0.20458735169226888}\n",
      "[(3, 1), (3, 2), (3, 4), (4, 5), (4, 6)]\n",
      "0.20458735169226888\n",
      "0.030481640117054405\n",
      "0.14717837794793714\n",
      "0.03334192509453792\n",
      "0.126462361593259\n"
     ]
    }
   ],
   "source": [
    "Gw.edge_attr_dict_factory\n",
    "\n",
    "weights = [a[2][\"weight\"] for a in Gw.edges(data=True)]\n",
    "print(weights)\n",
    "print(Gw.edges[(3,1)])\n",
    "print(Gw.edges)\n",
    "for u,v in Gw.edges:\n",
    "    print(Gw.edges[u,v][\"weight\"]) # Type 'numpy.float64'"
   ]
  },
  {
   "cell_type": "code",
   "execution_count": 13,
   "metadata": {},
   "outputs": [
    {
     "name": "stdout",
     "output_type": "stream",
     "text": [
      "0.0\n"
     ]
    }
   ],
   "source": [
    "dist = nx.graph_edit_distance(Gw, Gw2, node_match=None, edge_match=None, node_subst_cost=None, node_del_cost=None, node_ins_cost=None, edge_subst_cost=None, edge_del_cost=None, edge_ins_cost=None, roots=None, upper_bound=None, timeout=None)\n",
    "print(dist)"
   ]
  },
  {
   "cell_type": "code",
   "execution_count": 14,
   "metadata": {},
   "outputs": [
    {
     "name": "stdout",
     "output_type": "stream",
     "text": [
      "Graph with 3 nodes and 2 edges\n"
     ]
    }
   ],
   "source": [
    "G1 = nx.Graph()\n",
    "G1.add_edge(0, 1, weight=2)\n",
    "G1.add_edge(1, 2, weight=3)\n",
    "\n",
    "G2 = nx.Graph()\n",
    "G2.add_edge(0, 1, weight=2)\n",
    "G2.add_edge(1, 2, weight=5)\n",
    "print(G2)"
   ]
  },
  {
   "cell_type": "code",
   "execution_count": 15,
   "metadata": {},
   "outputs": [
    {
     "name": "stdout",
     "output_type": "stream",
     "text": [
      "3\n",
      "0\n",
      "dict_keys([3, 2, 4, 5, 1, 6])\n",
      "dict_values([0, 0.030481640117054405, 0.14717837794793714, 0.18052030304247507, 0.20458735169226888, 0.27364073954119617])\n",
      "0\n",
      "1\n",
      "dict_keys([3, 2, 4, 5, 1, 6])\n",
      "dict_values([0, 0.030481640117054405, 0.14717837794793714, 0.18052030304247507, 0.20458735169226888, 0.27364073954119617])\n",
      "0.030481640117054405\n",
      "2\n",
      "dict_keys([3, 2, 4, 5, 1, 6])\n",
      "dict_values([0, 0.030481640117054405, 0.14717837794793714, 0.18052030304247507, 0.20458735169226888, 0.27364073954119617])\n",
      "0.14717837794793714\n",
      "3\n",
      "dict_keys([3, 2, 4, 5, 1, 6])\n",
      "dict_values([0, 0.030481640117054405, 0.14717837794793714, 0.18052030304247507, 0.20458735169226888, 0.27364073954119617])\n",
      "0.18052030304247507\n",
      "4\n",
      "dict_keys([3, 2, 4, 5, 1, 6])\n",
      "dict_values([0, 0.030481640117054405, 0.14717837794793714, 0.18052030304247507, 0.20458735169226888, 0.27364073954119617])\n",
      "0.20458735169226888\n",
      "5\n",
      "dict_keys([3, 2, 4, 5, 1, 6])\n",
      "dict_values([0, 0.030481640117054405, 0.14717837794793714, 0.18052030304247507, 0.20458735169226888, 0.27364073954119617])\n",
      "0.27364073954119617\n",
      "1\n",
      "0\n",
      "dict_keys([1, 3, 2, 4, 5, 6])\n",
      "dict_values([0, 0.20458735169226888, 0.23506899180932328, 0.351765729640206, 0.38510765473474395, 0.478228091233465])\n",
      "0\n",
      "1\n",
      "dict_keys([1, 3, 2, 4, 5, 6])\n",
      "dict_values([0, 0.20458735169226888, 0.23506899180932328, 0.351765729640206, 0.38510765473474395, 0.478228091233465])\n",
      "0.20458735169226888\n",
      "2\n",
      "dict_keys([1, 3, 2, 4, 5, 6])\n",
      "dict_values([0, 0.20458735169226888, 0.23506899180932328, 0.351765729640206, 0.38510765473474395, 0.478228091233465])\n",
      "0.23506899180932328\n",
      "3\n",
      "dict_keys([1, 3, 2, 4, 5, 6])\n",
      "dict_values([0, 0.20458735169226888, 0.23506899180932328, 0.351765729640206, 0.38510765473474395, 0.478228091233465])\n",
      "0.351765729640206\n",
      "4\n",
      "dict_keys([1, 3, 2, 4, 5, 6])\n",
      "dict_values([0, 0.20458735169226888, 0.23506899180932328, 0.351765729640206, 0.38510765473474395, 0.478228091233465])\n",
      "0.38510765473474395\n",
      "5\n",
      "dict_keys([1, 3, 2, 4, 5, 6])\n",
      "dict_values([0, 0.20458735169226888, 0.23506899180932328, 0.351765729640206, 0.38510765473474395, 0.478228091233465])\n",
      "0.478228091233465\n",
      "2\n",
      "0\n",
      "dict_keys([2, 3, 4, 5, 1, 6])\n",
      "dict_values([0, 0.030481640117054405, 0.17766001806499154, 0.21100194315952947, 0.23506899180932328, 0.3041223796582505])\n",
      "0\n",
      "1\n",
      "dict_keys([2, 3, 4, 5, 1, 6])\n",
      "dict_values([0, 0.030481640117054405, 0.17766001806499154, 0.21100194315952947, 0.23506899180932328, 0.3041223796582505])\n",
      "0.030481640117054405\n",
      "2\n",
      "dict_keys([2, 3, 4, 5, 1, 6])\n",
      "dict_values([0, 0.030481640117054405, 0.17766001806499154, 0.21100194315952947, 0.23506899180932328, 0.3041223796582505])\n",
      "0.17766001806499154\n",
      "3\n",
      "dict_keys([2, 3, 4, 5, 1, 6])\n",
      "dict_values([0, 0.030481640117054405, 0.17766001806499154, 0.21100194315952947, 0.23506899180932328, 0.3041223796582505])\n",
      "0.21100194315952947\n",
      "4\n",
      "dict_keys([2, 3, 4, 5, 1, 6])\n",
      "dict_values([0, 0.030481640117054405, 0.17766001806499154, 0.21100194315952947, 0.23506899180932328, 0.3041223796582505])\n",
      "0.23506899180932328\n",
      "5\n",
      "dict_keys([2, 3, 4, 5, 1, 6])\n",
      "dict_values([0, 0.030481640117054405, 0.17766001806499154, 0.21100194315952947, 0.23506899180932328, 0.3041223796582505])\n",
      "0.3041223796582505\n",
      "4\n",
      "0\n",
      "dict_keys([4, 5, 6, 3, 2, 1])\n",
      "dict_values([0, 0.03334192509453792, 0.126462361593259, 0.14717837794793714, 0.17766001806499154, 0.351765729640206])\n",
      "0\n",
      "1\n",
      "dict_keys([4, 5, 6, 3, 2, 1])\n",
      "dict_values([0, 0.03334192509453792, 0.126462361593259, 0.14717837794793714, 0.17766001806499154, 0.351765729640206])\n",
      "0.03334192509453792\n",
      "2\n",
      "dict_keys([4, 5, 6, 3, 2, 1])\n",
      "dict_values([0, 0.03334192509453792, 0.126462361593259, 0.14717837794793714, 0.17766001806499154, 0.351765729640206])\n",
      "0.126462361593259\n",
      "3\n",
      "dict_keys([4, 5, 6, 3, 2, 1])\n",
      "dict_values([0, 0.03334192509453792, 0.126462361593259, 0.14717837794793714, 0.17766001806499154, 0.351765729640206])\n",
      "0.14717837794793714\n",
      "4\n",
      "dict_keys([4, 5, 6, 3, 2, 1])\n",
      "dict_values([0, 0.03334192509453792, 0.126462361593259, 0.14717837794793714, 0.17766001806499154, 0.351765729640206])\n",
      "0.17766001806499154\n",
      "5\n",
      "dict_keys([4, 5, 6, 3, 2, 1])\n",
      "dict_values([0, 0.03334192509453792, 0.126462361593259, 0.14717837794793714, 0.17766001806499154, 0.351765729640206])\n",
      "0.351765729640206\n",
      "5\n",
      "0\n",
      "dict_keys([5, 4, 6, 3, 2, 1])\n",
      "dict_values([0, 0.03334192509453792, 0.15980428668779692, 0.18052030304247507, 0.21100194315952947, 0.38510765473474395])\n",
      "0\n",
      "1\n",
      "dict_keys([5, 4, 6, 3, 2, 1])\n",
      "dict_values([0, 0.03334192509453792, 0.15980428668779692, 0.18052030304247507, 0.21100194315952947, 0.38510765473474395])\n",
      "0.03334192509453792\n",
      "2\n",
      "dict_keys([5, 4, 6, 3, 2, 1])\n",
      "dict_values([0, 0.03334192509453792, 0.15980428668779692, 0.18052030304247507, 0.21100194315952947, 0.38510765473474395])\n",
      "0.15980428668779692\n",
      "3\n",
      "dict_keys([5, 4, 6, 3, 2, 1])\n",
      "dict_values([0, 0.03334192509453792, 0.15980428668779692, 0.18052030304247507, 0.21100194315952947, 0.38510765473474395])\n",
      "0.18052030304247507\n",
      "4\n",
      "dict_keys([5, 4, 6, 3, 2, 1])\n",
      "dict_values([0, 0.03334192509453792, 0.15980428668779692, 0.18052030304247507, 0.21100194315952947, 0.38510765473474395])\n",
      "0.21100194315952947\n",
      "5\n",
      "dict_keys([5, 4, 6, 3, 2, 1])\n",
      "dict_values([0, 0.03334192509453792, 0.15980428668779692, 0.18052030304247507, 0.21100194315952947, 0.38510765473474395])\n",
      "0.38510765473474395\n",
      "6\n",
      "0\n",
      "dict_keys([6, 4, 5, 3, 2, 1])\n",
      "dict_values([0, 0.126462361593259, 0.15980428668779692, 0.27364073954119617, 0.30412237965825056, 0.47822809123346505])\n",
      "0\n",
      "1\n",
      "dict_keys([6, 4, 5, 3, 2, 1])\n",
      "dict_values([0, 0.126462361593259, 0.15980428668779692, 0.27364073954119617, 0.30412237965825056, 0.47822809123346505])\n",
      "0.126462361593259\n",
      "2\n",
      "dict_keys([6, 4, 5, 3, 2, 1])\n",
      "dict_values([0, 0.126462361593259, 0.15980428668779692, 0.27364073954119617, 0.30412237965825056, 0.47822809123346505])\n",
      "0.15980428668779692\n",
      "3\n",
      "dict_keys([6, 4, 5, 3, 2, 1])\n",
      "dict_values([0, 0.126462361593259, 0.15980428668779692, 0.27364073954119617, 0.30412237965825056, 0.47822809123346505])\n",
      "0.27364073954119617\n",
      "4\n",
      "dict_keys([6, 4, 5, 3, 2, 1])\n",
      "dict_values([0, 0.126462361593259, 0.15980428668779692, 0.27364073954119617, 0.30412237965825056, 0.47822809123346505])\n",
      "0.30412237965825056\n",
      "5\n",
      "dict_keys([6, 4, 5, 3, 2, 1])\n",
      "dict_values([0, 0.126462361593259, 0.15980428668779692, 0.27364073954119617, 0.30412237965825056, 0.47822809123346505])\n",
      "0.47822809123346505\n",
      "[[0.         0.23506899 0.20458735 0.35176573 0.38510765 0.47822809]\n",
      " [0.23506899 0.         0.03048164 0.17766002 0.21100194 0.30412238]\n",
      " [0.20458735 0.03048164 0.         0.14717838 0.1805203  0.27364074]\n",
      " [0.35176573 0.17766002 0.14717838 0.         0.03334193 0.12646236]\n",
      " [0.38510765 0.21100194 0.1805203  0.03334193 0.         0.15980429]\n",
      " [0.47822809 0.30412238 0.27364074 0.12646236 0.15980429 0.        ]]\n"
     ]
    }
   ],
   "source": [
    "#https://en.wikipedia.org/wiki/Gromov%E2%80%93Hausdorff_convergence\n",
    "#extract distance matrix\n",
    "\n",
    "length = nx.all_pairs_dijkstra_path_length(Gw)\n",
    "nodes = list(Gw.nodes)\n",
    "n = len(nodes)\n",
    "dist_matrix = np.zeros((n, n))\n",
    "\n",
    "for i,j in length:\n",
    "    print(i)\n",
    "    for a in range(len(j.keys())):\n",
    "        print(a)\n",
    "        \n",
    "        print(j.keys())\n",
    "        p = list(j.keys())\n",
    "        col = p[a]\n",
    "        print(j.values())\n",
    "        val = list(j.values())\n",
    "        print(val[a])\n",
    "        dist_matrix[i-1,col-1] = val[a]\n",
    "print(dist_matrix)\n"
   ]
  },
  {
   "cell_type": "markdown",
   "metadata": {},
   "source": [
    "A possible outline for the algortithm:\n",
    "    - First compare G1 with G2...GN and see if they are isomorphic.\n",
    "        -They ARE isomorphic -- then take the distance matrix, calculate the cost matrix, and optimize to obtain the node mapping.\n",
    "            -We will have all the isomorphic skeletons with distance between them. We repesent this as a cloud of points (make distance matrix) AND one node mapping --> we can exact means!! \n",
    "        -The AREN'T isomorphic -- do nothing\n",
    "    -Continue until all graphs are classified into isomorphinsm\n",
    "The output will be N groups of isomorphic skeletons. Each group will have its own distance matrix, which we can use to classify INSIDE each group. In this way we can refine each group into classes if we see a clustering \n",
    "        "
   ]
  },
  {
   "cell_type": "code",
   "execution_count": 19,
   "metadata": {},
   "outputs": [
    {
     "name": "stdout",
     "output_type": "stream",
     "text": [
      "[[0.         0.23506899 0.20458735 0.35176573 0.38510765 0.47822809]\n",
      " [0.23506899 0.         0.03048164 0.17766002 0.21100194 0.30412238]\n",
      " [0.20458735 0.03048164 0.         0.14717838 0.1805203  0.27364074]\n",
      " [0.35176573 0.17766002 0.14717838 0.         0.03334193 0.12646236]\n",
      " [0.38510765 0.21100194 0.1805203  0.03334193 0.         0.15980429]\n",
      " [0.47822809 0.30412238 0.27364074 0.12646236 0.15980429 0.        ]]\n",
      "[[0.         0.2118397  0.10895364 0.11383645 0.32365363 0.14836315]\n",
      " [0.2118397  0.         0.10288606 0.09800325 0.30782042 0.14229557]\n",
      " [0.10895364 0.10288606 0.         0.00488281 0.21469999 0.03940951]\n",
      " [0.11383645 0.09800325 0.00488281 0.         0.20981717 0.04429232]\n",
      " [0.32365363 0.30782042 0.21469999 0.20981717 0.         0.25410949]\n",
      " [0.14836315 0.14229557 0.03940951 0.04429232 0.25410949 0.        ]]\n",
      "[[0.47822809 0.26638839 0.36927445 0.36439164 0.32365363 0.32986494]\n",
      " [0.26638839 0.47822809 0.37534203 0.38022484 0.30782042 0.33593253]\n",
      " [0.36927445 0.37534203 0.47822809 0.47334528 0.26352811 0.43881859]\n",
      " [0.36439164 0.38022484 0.47334528 0.47822809 0.26841092 0.43393577]\n",
      " [0.32365363 0.30782042 0.26352811 0.26841092 0.47822809 0.25410949]\n",
      " [0.32986494 0.33593253 0.43881859 0.43393577 0.25410949 0.47822809]]\n",
      "[0 1 2 3 4 5]\n",
      "[1 0 4 5 2 3]\n",
      "Distancia Gromov-Hausdorff: 0.4339\n"
     ]
    }
   ],
   "source": [
    "\n",
    "from scipy.optimize import linear_sum_assignment\n",
    "\n",
    "def graph_distance_matrix(graph):\n",
    "    length = nx.all_pairs_dijkstra_path_length(graph)\n",
    "    nodes = list(graph.nodes)\n",
    "    n = len(nodes)\n",
    "    dist_matrix = np.zeros((n, n))\n",
    "\n",
    "    for i,j in length:\n",
    "        for a in range(len(j.keys())):\n",
    "            p = list(j.keys())\n",
    "            col = p[a]\n",
    "            val = list(j.values())\n",
    "            dist_matrix[i-1,col-1] = val[a]\n",
    "\n",
    "    return dist_matrix\n",
    "\n",
    "def gromov_hausdorff_distance(G1, G2):\n",
    "    \"\"\"Calcula una aproximación a la distancia Gromov-Hausdorff entre dos grafos.\"\"\"\n",
    "    D1 = graph_distance_matrix(G1)\n",
    "    print(D1)\n",
    "    D2 = graph_distance_matrix(G2)\n",
    "    print(D2)\n",
    "    \n",
    "    # Verificamos tamaños y ajustamos si es necesario\n",
    "    if D1.shape != D2.shape:\n",
    "        raise ValueError(\"Los grafos deben tener el mismo número de nodos para esta aproximación.\")\n",
    "    \n",
    "     # Calcula la matriz de costos entre distancias\n",
    "    n = D1.shape[0]\n",
    "    cost_matrix = np.zeros((n, n))\n",
    "    for i in range(n):\n",
    "        for j in range(n):\n",
    "            cost_matrix[i, j] = np.max(np.abs(D1 - D2[i, j]))\n",
    "    \n",
    "    # Encuentra la asignación óptima de nodos usando el algoritmo húngaro\n",
    "    print(cost_matrix)\n",
    "    row_ind, col_ind = linear_sum_assignment(cost_matrix)\n",
    "    print(row_ind)\n",
    "    print(col_ind)\n",
    "    # Calcula la distancia GH usando la asignación óptima\n",
    "    gh_distance = cost_matrix[row_ind, col_ind].max()\n",
    "    \n",
    "    # Calcula la matriz de costos entre distancias\n",
    "    #cost_matrix = np.abs(D1[:, :, np.newaxis] - D2[np.newaxis, :, :]).max(axis=(1, 2))\n",
    "\n",
    "    \n",
    "    return gh_distance\n",
    "\n",
    "\n",
    "# Ejemplo de uso:\n",
    "G1 = nx.Graph()\n",
    "G1.add_weighted_edges_from([(0, 1, 1), (1, 2, 2), (2, 0, 2)])\n",
    "\n",
    "G2 = nx.Graph()\n",
    "G2.add_weighted_edges_from([(0, 1, 1), (1, 2, 1), (2, 0, 3)])\n",
    "\n",
    "distancia = gromov_hausdorff_distance(Gw, Gw2)\n",
    "print(f\"Distancia Gromov-Hausdorff: {distancia:.4f}\")"
   ]
  },
  {
   "cell_type": "code",
   "execution_count": 19,
   "metadata": {},
   "outputs": [
    {
     "name": "stdout",
     "output_type": "stream",
     "text": [
      "[[0.47822809 1.                inf        inf        inf        inf]\n",
      " [1.         0.47822809        inf        inf        inf        inf]\n",
      " [       inf        inf        inf        inf        inf        inf]\n",
      " [       inf        inf        inf        inf        inf        inf]\n",
      " [       inf        inf        inf        inf        inf        inf]\n",
      " [1.         2.                inf        inf        inf        inf]]\n"
     ]
    },
    {
     "ename": "ValueError",
     "evalue": "cost matrix is infeasible",
     "output_type": "error",
     "traceback": [
      "\u001b[1;31m---------------------------------------------------------------------------\u001b[0m",
      "\u001b[1;31mValueError\u001b[0m                                Traceback (most recent call last)",
      "\u001b[1;32m<ipython-input-19-522510df0a33>\u001b[0m in \u001b[0;36m<module>\u001b[1;34m\u001b[0m\n\u001b[0;32m     54\u001b[0m \u001b[0mG2\u001b[0m\u001b[1;33m.\u001b[0m\u001b[0madd_weighted_edges_from\u001b[0m\u001b[1;33m(\u001b[0m\u001b[1;33m[\u001b[0m\u001b[1;33m(\u001b[0m\u001b[1;36m0\u001b[0m\u001b[1;33m,\u001b[0m \u001b[1;36m1\u001b[0m\u001b[1;33m,\u001b[0m \u001b[1;36m1\u001b[0m\u001b[1;33m)\u001b[0m\u001b[1;33m,\u001b[0m \u001b[1;33m(\u001b[0m\u001b[1;36m1\u001b[0m\u001b[1;33m,\u001b[0m \u001b[1;36m2\u001b[0m\u001b[1;33m,\u001b[0m \u001b[1;36m1\u001b[0m\u001b[1;33m)\u001b[0m\u001b[1;33m,\u001b[0m \u001b[1;33m(\u001b[0m\u001b[1;36m2\u001b[0m\u001b[1;33m,\u001b[0m \u001b[1;36m0\u001b[0m\u001b[1;33m,\u001b[0m \u001b[1;36m3\u001b[0m\u001b[1;33m)\u001b[0m\u001b[1;33m]\u001b[0m\u001b[1;33m)\u001b[0m\u001b[1;33m\u001b[0m\u001b[1;33m\u001b[0m\u001b[0m\n\u001b[0;32m     55\u001b[0m \u001b[1;33m\u001b[0m\u001b[0m\n\u001b[1;32m---> 56\u001b[1;33m \u001b[0mdistancia\u001b[0m \u001b[1;33m=\u001b[0m \u001b[0mgromov_hausdorff_distance\u001b[0m\u001b[1;33m(\u001b[0m\u001b[0mGw\u001b[0m\u001b[1;33m,\u001b[0m \u001b[0mG2\u001b[0m\u001b[1;33m)\u001b[0m\u001b[1;33m\u001b[0m\u001b[1;33m\u001b[0m\u001b[0m\n\u001b[0m\u001b[0;32m     57\u001b[0m \u001b[0mprint\u001b[0m\u001b[1;33m(\u001b[0m\u001b[1;34mf\"Distancia Gromov-Hausdorff: {distancia:.4f}\"\u001b[0m\u001b[1;33m)\u001b[0m\u001b[1;33m\u001b[0m\u001b[1;33m\u001b[0m\u001b[0m\n",
      "\u001b[1;32m<ipython-input-19-522510df0a33>\u001b[0m in \u001b[0;36mgromov_hausdorff_distance\u001b[1;34m(G1, G2)\u001b[0m\n\u001b[0;32m     35\u001b[0m     \u001b[0mprint\u001b[0m\u001b[1;33m(\u001b[0m\u001b[0mcost_matrix\u001b[0m\u001b[1;33m)\u001b[0m\u001b[1;33m\u001b[0m\u001b[1;33m\u001b[0m\u001b[0m\n\u001b[0;32m     36\u001b[0m     \u001b[1;31m# Encuentra la asignación óptima de nodos usando el algoritmo húngaro\u001b[0m\u001b[1;33m\u001b[0m\u001b[1;33m\u001b[0m\u001b[1;33m\u001b[0m\u001b[0m\n\u001b[1;32m---> 37\u001b[1;33m     \u001b[0mrow_ind\u001b[0m\u001b[1;33m,\u001b[0m \u001b[0mcol_ind\u001b[0m \u001b[1;33m=\u001b[0m \u001b[0mlinear_sum_assignment\u001b[0m\u001b[1;33m(\u001b[0m\u001b[0mcost_matrix\u001b[0m\u001b[1;33m)\u001b[0m\u001b[1;33m\u001b[0m\u001b[1;33m\u001b[0m\u001b[0m\n\u001b[0m\u001b[0;32m     38\u001b[0m \u001b[1;33m\u001b[0m\u001b[0m\n\u001b[0;32m     39\u001b[0m     \u001b[1;31m# Calcula la distancia GH usando la asignación óptima\u001b[0m\u001b[1;33m\u001b[0m\u001b[1;33m\u001b[0m\u001b[1;33m\u001b[0m\u001b[0m\n",
      "\u001b[1;32mc:\\Users\\evatr\\anaconda3\\lib\\site-packages\\scipy\\optimize\\_lsap.py\u001b[0m in \u001b[0;36mlinear_sum_assignment\u001b[1;34m(cost_matrix, maximize)\u001b[0m\n\u001b[0;32m    102\u001b[0m         \u001b[1;32mreturn\u001b[0m \u001b[1;33m(\u001b[0m\u001b[0mb\u001b[0m\u001b[1;33m[\u001b[0m\u001b[0mindices\u001b[0m\u001b[1;33m]\u001b[0m\u001b[1;33m,\u001b[0m \u001b[0ma\u001b[0m\u001b[1;33m[\u001b[0m\u001b[0mindices\u001b[0m\u001b[1;33m]\u001b[0m\u001b[1;33m)\u001b[0m\u001b[1;33m\u001b[0m\u001b[1;33m\u001b[0m\u001b[0m\n\u001b[0;32m    103\u001b[0m     \u001b[1;32melse\u001b[0m\u001b[1;33m:\u001b[0m\u001b[1;33m\u001b[0m\u001b[1;33m\u001b[0m\u001b[0m\n\u001b[1;32m--> 104\u001b[1;33m         \u001b[0mb\u001b[0m \u001b[1;33m=\u001b[0m \u001b[0m_lsap_module\u001b[0m\u001b[1;33m.\u001b[0m\u001b[0mcalculate_assignment\u001b[0m\u001b[1;33m(\u001b[0m\u001b[0mcost_matrix\u001b[0m\u001b[1;33m)\u001b[0m\u001b[1;33m\u001b[0m\u001b[1;33m\u001b[0m\u001b[0m\n\u001b[0m\u001b[0;32m    105\u001b[0m         \u001b[1;32mreturn\u001b[0m \u001b[1;33m(\u001b[0m\u001b[0ma\u001b[0m\u001b[1;33m,\u001b[0m \u001b[0mb\u001b[0m\u001b[1;33m)\u001b[0m\u001b[1;33m\u001b[0m\u001b[1;33m\u001b[0m\u001b[0m\n",
      "\u001b[1;31mValueError\u001b[0m: cost matrix is infeasible"
     ]
    }
   ],
   "source": [
    "def graph_distance_matrix(graph,size):\n",
    "    length = nx.all_pairs_dijkstra_path_length(graph)\n",
    "    nodes = list(graph.nodes)\n",
    "    dist_matrix = np.full((size, size), np.inf)\n",
    "\n",
    "    for i,j in length:\n",
    "        for a in range(len(j.keys())):\n",
    "            p = list(j.keys())\n",
    "            col = p[a]\n",
    "            val = list(j.values())\n",
    "            dist_matrix[i-1,col-1] = val[a]\n",
    "\n",
    "    return dist_matrix\n",
    "\n",
    "def gromov_hausdorff_distance(G1, G2):\n",
    "    \"\"\"Calcula una aproximación a la distancia Gromov-Hausdorff entre dos grafos.\"\"\"\n",
    "    n1, n2 = len(G1), len(G2)\n",
    "    max_size = max(n1, n2)\n",
    "    D1 = graph_distance_matrix(G1,max_size)\n",
    "    D2 = graph_distance_matrix(G2,max_size)\n",
    "    \n",
    "    # Verificamos tamaños y ajustamos si es necesario\n",
    "    if D1.shape != D2.shape:\n",
    "        raise ValueError(\"Los grafos deben tener el mismo número de nodos para esta aproximación.\")\n",
    "    \n",
    "     # Calcula la matriz de costos entre distancias\n",
    "    \n",
    "    cost_matrix = np.zeros((max_size, max_size))\n",
    "    for i in range(max_size):\n",
    "        for j in range(max_size):\n",
    "            if i < n1 and j < n2:\n",
    "                cost_matrix[i, j] = np.max(np.abs(D1 - D2[i, j]))\n",
    "            else:\n",
    "                cost_matrix[i, j] = np.inf\n",
    "    print(cost_matrix)\n",
    "    # Encuentra la asignación óptima de nodos usando el algoritmo húngaro\n",
    "    row_ind, col_ind = linear_sum_assignment(cost_matrix)\n",
    "    \n",
    "    # Calcula la distancia GH usando la asignación óptima\n",
    "    gh_distance = cost_matrix[row_ind, col_ind].max()\n",
    "    \n",
    "    # Calcula la matriz de costos entre distancias\n",
    "    #cost_matrix = np.abs(D1[:, :, np.newaxis] - D2[np.newaxis, :, :]).max(axis=(1, 2))\n",
    "\n",
    "    \n",
    "    return gh_distance\n",
    "\n",
    "\n",
    "# Ejemplo de uso:\n",
    "G1 = nx.Graph()\n",
    "G1.add_weighted_edges_from([(0, 1, 1), (1, 2, 2), (2, 0, 2)])\n",
    "\n",
    "G2 = nx.Graph()\n",
    "G2.add_weighted_edges_from([(0, 1, 1), (1, 2, 1), (2, 0, 3)])\n",
    "\n",
    "distancia = gromov_hausdorff_distance(Gw, G2)\n",
    "print(f\"Distancia Gromov-Hausdorff: {distancia:.4f}\")"
   ]
  },
  {
   "cell_type": "code",
   "execution_count": null,
   "metadata": {},
   "outputs": [
    {
     "ename": "AttributeError",
     "evalue": "'Graph' object has no attribute 'get'",
     "output_type": "error",
     "traceback": [
      "\u001b[1;31m---------------------------------------------------------------------------\u001b[0m",
      "\u001b[1;31mAttributeError\u001b[0m                            Traceback (most recent call last)",
      "\u001b[1;32m<ipython-input-154-2a5bd949640f>\u001b[0m in \u001b[0;36m<module>\u001b[1;34m\u001b[0m\n\u001b[0;32m     23\u001b[0m \u001b[0mG2\u001b[0m\u001b[1;33m.\u001b[0m\u001b[0madd_edge\u001b[0m\u001b[1;33m(\u001b[0m\u001b[1;36m1\u001b[0m\u001b[1;33m,\u001b[0m \u001b[1;36m2\u001b[0m\u001b[1;33m,\u001b[0m \u001b[0mweight\u001b[0m\u001b[1;33m=\u001b[0m\u001b[1;36m5\u001b[0m\u001b[1;33m)\u001b[0m\u001b[1;33m\u001b[0m\u001b[1;33m\u001b[0m\u001b[0m\n\u001b[0;32m     24\u001b[0m \u001b[1;33m\u001b[0m\u001b[0m\n\u001b[1;32m---> 25\u001b[1;33m \u001b[0mdistancia\u001b[0m \u001b[1;33m=\u001b[0m \u001b[0mweighted_graph_edit_distance\u001b[0m\u001b[1;33m(\u001b[0m\u001b[0mG1\u001b[0m\u001b[1;33m,\u001b[0m \u001b[0mG2\u001b[0m\u001b[1;33m)\u001b[0m\u001b[1;33m\u001b[0m\u001b[1;33m\u001b[0m\u001b[0m\n\u001b[0m\u001b[0;32m     26\u001b[0m \u001b[0mprint\u001b[0m\u001b[1;33m(\u001b[0m\u001b[1;34mf\"Graph Edit Distance: {distancia:.4f}\"\u001b[0m\u001b[1;33m)\u001b[0m\u001b[1;33m\u001b[0m\u001b[1;33m\u001b[0m\u001b[0m\n",
      "\u001b[1;32m<ipython-input-154-2a5bd949640f>\u001b[0m in \u001b[0;36mweighted_graph_edit_distance\u001b[1;34m(G1, G2)\u001b[0m\n\u001b[0;32m     11\u001b[0m \u001b[1;33m\u001b[0m\u001b[0m\n\u001b[0;32m     12\u001b[0m     \u001b[1;31m# Calcula la distancia de edición con la función de costos personalizada\u001b[0m\u001b[1;33m\u001b[0m\u001b[1;33m\u001b[0m\u001b[1;33m\u001b[0m\u001b[0m\n\u001b[1;32m---> 13\u001b[1;33m     \u001b[0mged\u001b[0m \u001b[1;33m=\u001b[0m \u001b[0mnx\u001b[0m\u001b[1;33m.\u001b[0m\u001b[0mgraph_edit_distance\u001b[0m\u001b[1;33m(\u001b[0m\u001b[0mG1\u001b[0m\u001b[1;33m,\u001b[0m \u001b[0mG2\u001b[0m\u001b[1;33m,\u001b[0m \u001b[0medge_subst_cost\u001b[0m\u001b[1;33m=\u001b[0m\u001b[0medge_cost\u001b[0m\u001b[1;33m(\u001b[0m\u001b[0mG1\u001b[0m\u001b[1;33m,\u001b[0m\u001b[0mG2\u001b[0m\u001b[1;33m)\u001b[0m\u001b[1;33m)\u001b[0m\u001b[1;33m\u001b[0m\u001b[1;33m\u001b[0m\u001b[0m\n\u001b[0m\u001b[0;32m     14\u001b[0m     \u001b[1;32mreturn\u001b[0m \u001b[0mged\u001b[0m\u001b[1;33m\u001b[0m\u001b[1;33m\u001b[0m\u001b[0m\n\u001b[0;32m     15\u001b[0m \u001b[1;31m#That is, the functions will receive the edge attribute dictionaries as inputs. The functions are expected to return positive numeric values.\u001b[0m\u001b[1;33m\u001b[0m\u001b[1;33m\u001b[0m\u001b[1;33m\u001b[0m\u001b[0m\n",
      "\u001b[1;32m<ipython-input-154-2a5bd949640f>\u001b[0m in \u001b[0;36medge_cost\u001b[1;34m(G1, G2)\u001b[0m\n\u001b[0;32m      5\u001b[0m     \u001b[1;32mdef\u001b[0m \u001b[0medge_cost\u001b[0m\u001b[1;33m(\u001b[0m\u001b[0mG1\u001b[0m\u001b[1;33m,\u001b[0m\u001b[0mG2\u001b[0m\u001b[1;33m)\u001b[0m\u001b[1;33m:\u001b[0m\u001b[1;33m\u001b[0m\u001b[1;33m\u001b[0m\u001b[0m\n\u001b[0;32m      6\u001b[0m         \u001b[1;31m# Obtiene los pesos, si no existen, se asumen como 1 (o 0, según el caso)\u001b[0m\u001b[1;33m\u001b[0m\u001b[1;33m\u001b[0m\u001b[1;33m\u001b[0m\u001b[0m\n\u001b[1;32m----> 7\u001b[1;33m         \u001b[0mweight1\u001b[0m \u001b[1;33m=\u001b[0m \u001b[0mG1\u001b[0m\u001b[1;33m.\u001b[0m\u001b[0mget\u001b[0m\u001b[1;33m(\u001b[0m\u001b[1;34m\"weight\"\u001b[0m\u001b[1;33m,\u001b[0m \u001b[1;36m1\u001b[0m\u001b[1;33m)\u001b[0m\u001b[1;33m\u001b[0m\u001b[1;33m\u001b[0m\u001b[0m\n\u001b[0m\u001b[0;32m      8\u001b[0m         \u001b[0mweight2\u001b[0m \u001b[1;33m=\u001b[0m \u001b[0mG2\u001b[0m\u001b[1;33m.\u001b[0m\u001b[0mget\u001b[0m\u001b[1;33m(\u001b[0m\u001b[1;34m\"weight\"\u001b[0m\u001b[1;33m,\u001b[0m \u001b[1;36m1\u001b[0m\u001b[1;33m)\u001b[0m\u001b[1;33m\u001b[0m\u001b[1;33m\u001b[0m\u001b[0m\n\u001b[0;32m      9\u001b[0m         \u001b[1;31m# Costo basado en la diferencia de pesos\u001b[0m\u001b[1;33m\u001b[0m\u001b[1;33m\u001b[0m\u001b[1;33m\u001b[0m\u001b[0m\n",
      "\u001b[1;31mAttributeError\u001b[0m: 'Graph' object has no attribute 'get'"
     ]
    }
   ],
   "source": [
    "def weighted_graph_edit_distance(G1, G2):\n",
    "    \"\"\"Calcula la distancia de edición entre dos grafos ponderados.\"\"\"\n",
    "\n",
    "    # Define la función de costos que considera los pesos de las aristas\n",
    "    def edge_cost(G1,G2):\n",
    "        # Obtiene los pesos, si no existen, se asumen como 1 (o 0, según el caso)\n",
    "        weight1 = G1.edges[u,v][\"weight\"]\n",
    "        weight2 = G2.edges[u1,v1][\"weight\"]\n",
    "        # Costo basado en la diferencia de pesos\n",
    "        return abs(weight1 - weight2)\n",
    "\n",
    "    # Calcula la distancia de edición con la función de costos personalizada\n",
    "    ged = nx.graph_edit_distance(G1, G2, edge_subst_cost=edge_cost(G1,G2))\n",
    "    return ged\n",
    "#That is, the functions will receive the edge attribute dictionaries as inputs. The functions are expected to return positive numeric values.\n",
    "# Ejemplo de uso:\n",
    "\n",
    "distancia = weighted_graph_edit_distance(G1, G2)\n",
    "print(f\"Graph Edit Distance: {distancia:.4f}\")"
   ]
  },
  {
   "cell_type": "code",
   "execution_count": 114,
   "metadata": {},
   "outputs": [
    {
     "data": {
      "text/plain": [
       "matrix([[0.        , 0.20458735, 0.03048164, 0.14717838, 0.        ,\n",
       "         0.        ],\n",
       "        [0.20458735, 0.        , 0.        , 0.        , 0.        ,\n",
       "         0.        ],\n",
       "        [0.03048164, 0.        , 0.        , 0.        , 0.        ,\n",
       "         0.        ],\n",
       "        [0.14717838, 0.        , 0.        , 0.        , 0.03334193,\n",
       "         0.12646236],\n",
       "        [0.        , 0.        , 0.        , 0.03334193, 0.        ,\n",
       "         0.        ],\n",
       "        [0.        , 0.        , 0.        , 0.12646236, 0.        ,\n",
       "         0.        ]])"
      ]
     },
     "execution_count": 114,
     "metadata": {},
     "output_type": "execute_result"
    },
    {
     "data": {
      "image/png": "[encoded data removed]",
      "text/plain": [
       "<Figure size 720x576 with 1 Axes>"
      ]
     },
     "metadata": {},
     "output_type": "display_data"
    }
   ],
   "source": [
    "# Definir la posición de los nodos utilizando un layout\n",
    "pos = nx.spring_layout(Gw)\n",
    "\n",
    "# Representar nodos y ejes\n",
    "fig, ax = plt.subplots(figsize=(10,8))\n",
    "nx.draw_networkx_nodes(\n",
    "    Gw,\n",
    "    pos = pos,\n",
    "    ax = ax\n",
    ")\n",
    "nx.draw_networkx_edges(\n",
    "    Gw,\n",
    "    pos = pos,\n",
    "    edgelist = Gw.edges,\n",
    "    width = weigths,\n",
    "    ax = ax\n",
    ");\n",
    "\n",
    "adjM = nx.adjacency_matrix(Gw).todense()\n",
    "adjM"
   ]
  },
  {
   "cell_type": "code",
   "execution_count": null,
   "metadata": {},
   "outputs": [
    {
     "name": "stdout",
     "output_type": "stream",
     "text": [
      "   start  end   weigths\n",
      "0      2    1  0.073936\n",
      "1      2    3  0.165872\n",
      "2      2    4  0.042270\n",
      "3      4    5  0.055733\n",
      "4      4    6  0.054896\n",
      "5      3    7  0.130507\n",
      "6      3    8  0.030482\n"
     ]
    },
    {
     "data": {
      "image/png": "[encoded data removed]",
      "text/plain": [
       "<Figure size 720x576 with 1 Axes>"
      ]
     },
     "metadata": {},
     "output_type": "display_data"
    }
   ],
   "source": [
    "conexiones = pd.DataFrame(\n",
    "    {\n",
    "        \"start\": lista_inicio,\n",
    "        \"end\": lista_final,\n",
    "        \"weigths\": weigths\n",
    "    }\n",
    ")\n",
    "print(conexiones)\n",
    "fig, ax = plt.subplots(figsize=(10,8))\n",
    "G = nx.from_pandas_edgelist(conexiones, source=\"start\", target=\"end\", edge_attr = True, edge_key =\"weigths\")\n",
    "nx.draw(G, with_labels=True, ax=ax) \n"
   ]
  },
  {
   "cell_type": "code",
   "execution_count": 39,
   "metadata": {},
   "outputs": [
    {
     "data": {
      "text/plain": [
       "[(2, 1, {'weigths': 0.07393619973011537}),\n",
       " (2, 3, {'weigths': 0.16587186739891074}),\n",
       " (2, 4, {'weigths': 0.042269790783135246}),\n",
       " (3, 7, {'weigths': 0.1305074154006682}),\n",
       " (3, 8, {'weigths': 0.030481640117054405}),\n",
       " (4, 5, {'weigths': 0.05573345759677391}),\n",
       " (4, 6, {'weigths': 0.054895699522994994})]"
      ]
     },
     "execution_count": 39,
     "metadata": {},
     "output_type": "execute_result"
    }
   ],
   "source": [
    "[a for a in G.edges(data=True)]"
   ]
  },
  {
   "cell_type": "markdown",
   "metadata": {},
   "source": [
    "#https://mathoverflow.net/questions/38305/similarity-of-weighted-graphs/38316#38316"
   ]
  },
  {
   "cell_type": "code",
   "execution_count": 112,
   "metadata": {},
   "outputs": [
    {
     "ename": "TypeError",
     "evalue": "'generator' object is not subscriptable",
     "output_type": "error",
     "traceback": [
      "\u001b[1;31m---------------------------------------------------------------------------\u001b[0m",
      "\u001b[1;31mTypeError\u001b[0m                                 Traceback (most recent call last)",
      "\u001b[1;32m<ipython-input-112-b9049c40ea11>\u001b[0m in \u001b[0;36m<module>\u001b[1;34m\u001b[0m\n\u001b[0;32m     41\u001b[0m \u001b[0mG2\u001b[0m\u001b[1;33m.\u001b[0m\u001b[0madd_weighted_edges_from\u001b[0m\u001b[1;33m(\u001b[0m\u001b[1;33m[\u001b[0m\u001b[1;33m(\u001b[0m\u001b[1;36m0\u001b[0m\u001b[1;33m,\u001b[0m \u001b[1;36m1\u001b[0m\u001b[1;33m,\u001b[0m \u001b[1;36m1\u001b[0m\u001b[1;33m)\u001b[0m\u001b[1;33m,\u001b[0m \u001b[1;33m(\u001b[0m\u001b[1;36m1\u001b[0m\u001b[1;33m,\u001b[0m \u001b[1;36m2\u001b[0m\u001b[1;33m,\u001b[0m \u001b[1;36m1\u001b[0m\u001b[1;33m)\u001b[0m\u001b[1;33m,\u001b[0m \u001b[1;33m(\u001b[0m\u001b[1;36m2\u001b[0m\u001b[1;33m,\u001b[0m \u001b[1;36m0\u001b[0m\u001b[1;33m,\u001b[0m \u001b[1;36m3\u001b[0m\u001b[1;33m)\u001b[0m\u001b[1;33m]\u001b[0m\u001b[1;33m)\u001b[0m\u001b[1;33m\u001b[0m\u001b[1;33m\u001b[0m\u001b[0m\n\u001b[0;32m     42\u001b[0m \u001b[1;33m\u001b[0m\u001b[0m\n\u001b[1;32m---> 43\u001b[1;33m \u001b[0mdistancia\u001b[0m \u001b[1;33m=\u001b[0m \u001b[0mgromov_hausdorff_distance\u001b[0m\u001b[1;33m(\u001b[0m\u001b[0mG1\u001b[0m\u001b[1;33m,\u001b[0m \u001b[0mG2\u001b[0m\u001b[1;33m)\u001b[0m\u001b[1;33m\u001b[0m\u001b[1;33m\u001b[0m\u001b[0m\n\u001b[0m\u001b[0;32m     44\u001b[0m \u001b[0mprint\u001b[0m\u001b[1;33m(\u001b[0m\u001b[1;34mf\"Distancia Gromov-Hausdorff: {distancia:.4f}\"\u001b[0m\u001b[1;33m)\u001b[0m\u001b[1;33m\u001b[0m\u001b[1;33m\u001b[0m\u001b[0m\n",
      "\u001b[1;32m<ipython-input-112-b9049c40ea11>\u001b[0m in \u001b[0;36mgromov_hausdorff_distance\u001b[1;34m(G1, G2)\u001b[0m\n\u001b[0;32m     16\u001b[0m \u001b[1;32mdef\u001b[0m \u001b[0mgromov_hausdorff_distance\u001b[0m\u001b[1;33m(\u001b[0m\u001b[0mG1\u001b[0m\u001b[1;33m,\u001b[0m \u001b[0mG2\u001b[0m\u001b[1;33m)\u001b[0m\u001b[1;33m:\u001b[0m\u001b[1;33m\u001b[0m\u001b[1;33m\u001b[0m\u001b[0m\n\u001b[0;32m     17\u001b[0m     \u001b[1;34m\"\"\"Calcula una aproximación a la distancia Gromov-Hausdorff entre dos grafos.\"\"\"\u001b[0m\u001b[1;33m\u001b[0m\u001b[1;33m\u001b[0m\u001b[0m\n\u001b[1;32m---> 18\u001b[1;33m     \u001b[0mD1\u001b[0m \u001b[1;33m=\u001b[0m \u001b[0mgraph_distance_matrix\u001b[0m\u001b[1;33m(\u001b[0m\u001b[0mG1\u001b[0m\u001b[1;33m)\u001b[0m\u001b[1;33m\u001b[0m\u001b[1;33m\u001b[0m\u001b[0m\n\u001b[0m\u001b[0;32m     19\u001b[0m     \u001b[0mD2\u001b[0m \u001b[1;33m=\u001b[0m \u001b[0mgraph_distance_matrix\u001b[0m\u001b[1;33m(\u001b[0m\u001b[0mG2\u001b[0m\u001b[1;33m)\u001b[0m\u001b[1;33m\u001b[0m\u001b[1;33m\u001b[0m\u001b[0m\n\u001b[0;32m     20\u001b[0m \u001b[1;33m\u001b[0m\u001b[0m\n",
      "\u001b[1;32m<ipython-input-112-b9049c40ea11>\u001b[0m in \u001b[0;36mgraph_distance_matrix\u001b[1;34m(graph)\u001b[0m\n\u001b[0;32m     10\u001b[0m     \u001b[1;32mfor\u001b[0m \u001b[0mi\u001b[0m\u001b[1;33m,\u001b[0m \u001b[0mu\u001b[0m \u001b[1;32min\u001b[0m \u001b[0menumerate\u001b[0m\u001b[1;33m(\u001b[0m\u001b[0mnodes\u001b[0m\u001b[1;33m)\u001b[0m\u001b[1;33m:\u001b[0m\u001b[1;33m\u001b[0m\u001b[1;33m\u001b[0m\u001b[0m\n\u001b[0;32m     11\u001b[0m         \u001b[1;32mfor\u001b[0m \u001b[0mj\u001b[0m\u001b[1;33m,\u001b[0m \u001b[0mv\u001b[0m \u001b[1;32min\u001b[0m \u001b[0menumerate\u001b[0m\u001b[1;33m(\u001b[0m\u001b[0mnodes\u001b[0m\u001b[1;33m)\u001b[0m\u001b[1;33m:\u001b[0m\u001b[1;33m\u001b[0m\u001b[1;33m\u001b[0m\u001b[0m\n\u001b[1;32m---> 12\u001b[1;33m             \u001b[0mdist_matrix\u001b[0m\u001b[1;33m[\u001b[0m\u001b[0mi\u001b[0m\u001b[1;33m,\u001b[0m \u001b[0mj\u001b[0m\u001b[1;33m]\u001b[0m \u001b[1;33m=\u001b[0m \u001b[0mlength\u001b[0m\u001b[1;33m[\u001b[0m\u001b[0mu\u001b[0m\u001b[1;33m]\u001b[0m\u001b[1;33m.\u001b[0m\u001b[0mget\u001b[0m\u001b[1;33m(\u001b[0m\u001b[0mv\u001b[0m\u001b[1;33m,\u001b[0m \u001b[0mnp\u001b[0m\u001b[1;33m.\u001b[0m\u001b[0minf\u001b[0m\u001b[1;33m)\u001b[0m  \u001b[1;31m# np.inf si no hay camino\u001b[0m\u001b[1;33m\u001b[0m\u001b[1;33m\u001b[0m\u001b[0m\n\u001b[0m\u001b[0;32m     13\u001b[0m \u001b[1;33m\u001b[0m\u001b[0m\n\u001b[0;32m     14\u001b[0m     \u001b[1;32mreturn\u001b[0m \u001b[0mdist_matrix\u001b[0m\u001b[1;33m\u001b[0m\u001b[1;33m\u001b[0m\u001b[0m\n",
      "\u001b[1;31mTypeError\u001b[0m: 'generator' object is not subscriptable"
     ]
    }
   ],
   "source": [
    "from scipy.optimize import linear_sum_assignment\n",
    "\n",
    "def graph_distance_matrix(graph):\n",
    "    \"\"\"Calcula la matriz de distancias más cortas entre todos los pares de nodos.\"\"\"\n",
    "    length = nx.all_pairs_dijkstra_path_length(graph)\n",
    "    nodes = list(graph.nodes)\n",
    "    n = len(nodes)\n",
    "    dist_matrix = np.zeros((n, n))\n",
    "    \n",
    "    for i, u in enumerate(nodes):\n",
    "        for j, v in enumerate(nodes):\n",
    "            dist_matrix[i, j] = length[u].get(v, np.inf)  # np.inf si no hay camino\n",
    "    \n",
    "    return dist_matrix\n",
    "\n",
    "def gromov_hausdorff_distance(G1, G2):\n",
    "    \"\"\"Calcula una aproximación a la distancia Gromov-Hausdorff entre dos grafos.\"\"\"\n",
    "    D1 = graph_distance_matrix(G1)\n",
    "    D2 = graph_distance_matrix(G2)\n",
    "    \n",
    "    # Verificamos tamaños y ajustamos si es necesario\n",
    "    if D1.shape != D2.shape:\n",
    "        raise ValueError(\"Los grafos deben tener el mismo número de nodos para esta aproximación.\")\n",
    "    \n",
    "    # Calcula la matriz de costos entre distancias\n",
    "    cost_matrix = np.abs(D1[:, :, np.newaxis] - D2[np.newaxis, :, :]).max(axis=(1, 2))\n",
    "    \n",
    "    # Optimización para encontrar la mejor asignación entre nodos\n",
    "    row_ind, col_ind = linear_sum_assignment(cost_matrix)\n",
    "    \n",
    "    # Calcula la distancia GH usando la asignación óptima\n",
    "    gh_distance = cost_matrix[row_ind, col_ind].max()\n",
    "    \n",
    "    return gh_distance\n",
    "\n",
    "# Ejemplo de uso:\n",
    "G1 = nx.Graph()\n",
    "G1.add_weighted_edges_from([(0, 1, 1), (1, 2, 2), (2, 0, 2)])\n",
    "\n",
    "G2 = nx.Graph()\n",
    "G2.add_weighted_edges_from([(0, 1, 1), (1, 2, 1), (2, 0, 3)])\n",
    "\n",
    "distancia = gromov_hausdorff_distance(G1, G2)\n",
    "print(f\"Distancia Gromov-Hausdorff: {distancia:.4f}\")"
   ]
  },
  {
   "cell_type": "code",
   "execution_count": null,
   "metadata": {},
   "outputs": [],
   "source": []
  }
 ],
 "metadata": {
  "kernelspec": {
   "display_name": "TopoStats3",
   "language": "python",
   "name": "python3"
  },
  "language_info": {
   "codemirror_mode": {
    "name": "ipython",
    "version": 3
   },
   "file_extension": ".py",
   "mimetype": "text/x-python",
   "name": "python",
   "nbconvert_exporter": "python",
   "pygments_lexer": "ipython3",
   "version": "3.10.16"
  }
 },
 "nbformat": 4,
 "nbformat_minor": 4
}
